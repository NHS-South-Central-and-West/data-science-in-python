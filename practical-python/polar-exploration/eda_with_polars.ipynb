{
 "cells": [
  {
   "cell_type": "markdown",
   "metadata": {},
   "source": [
    "# EDA with Polars\n",
    "\n",
    "Uses [this](https://www.kaggle.com/datasets/iamsouravbanerjee/heart-attack-prediction-dataset) dataset on Kaggle."
   ]
  },
  {
   "cell_type": "code",
   "execution_count": 6,
   "metadata": {},
   "outputs": [
    {
     "name": "stdout",
     "output_type": "stream",
     "text": [
      "Rows: 8763\n",
      "Columns: 26\n",
      "$ Patient ID                      <str> 'BMW7812', 'CZE1114', 'BNI9906', 'JLN3497', 'GFO8847', 'ZOO7941', 'WYV0966', 'XXM0972', 'XCQ5937', 'FTJ5456'\n",
      "$ Age                             <i64> 67, 21, 21, 84, 66, 54, 90, 84, 20, 43\n",
      "$ Sex                             <str> 'Male', 'Male', 'Female', 'Male', 'Male', 'Female', 'Male', 'Male', 'Male', 'Female'\n",
      "$ Cholesterol                     <i64> 208, 389, 324, 383, 318, 297, 358, 220, 145, 248\n",
      "$ Blood Pressure                  <str> '158/88', '165/93', '174/99', '163/100', '91/88', '172/86', '102/73', '131/68', '144/105', '160/70'\n",
      "$ Heart Rate                      <i64> 72, 98, 72, 73, 93, 48, 84, 107, 68, 55\n",
      "$ Diabetes                        <i64> 0, 1, 1, 1, 1, 1, 0, 0, 1, 0\n",
      "$ Family History                  <i64> 0, 1, 0, 1, 1, 1, 0, 0, 0, 1\n",
      "$ Smoking                         <i64> 1, 1, 0, 1, 1, 1, 1, 1, 1, 1\n",
      "$ Obesity                         <i64> 0, 1, 0, 0, 1, 0, 0, 1, 1, 1\n",
      "$ Alcohol Consumption             <i64> 0, 1, 0, 1, 0, 1, 1, 1, 0, 1\n",
      "$ Exercise Hours Per Week         <f64> 4.168188835442079, 1.8132416178634458, 2.0783529861178884, 9.82812959348533, 5.804298820315434, 0.6250080237057354, 4.098177090985471, 3.427928754300873, 16.868302239450017, 0.1945150606299495\n",
      "$ Diet                            <str> 'Average', 'Unhealthy', 'Healthy', 'Average', 'Unhealthy', 'Unhealthy', 'Healthy', 'Average', 'Average', 'Unhealthy'\n",
      "$ Previous Heart Problems         <i64> 0, 1, 1, 1, 1, 1, 0, 0, 0, 0\n",
      "$ Medication Use                  <i64> 0, 0, 1, 0, 0, 1, 0, 1, 0, 0\n",
      "$ Stress Level                    <i64> 9, 1, 9, 9, 6, 2, 7, 4, 5, 4\n",
      "$ Sedentary Hours Per Day         <f64> 6.6150014529140595, 4.963458839757678, 9.463425838029828, 7.648980824461007, 1.5148209264291386, 7.798752408582432, 0.6273560009569512, 10.543780239266841, 11.348786873498993, 4.055114781794609\n",
      "$ Income                          <i64> 261404, 285768, 235282, 125640, 160555, 241339, 190450, 122093, 25086, 209703\n",
      "$ BMI                             <f64> 31.251232725295402, 27.1949733519874, 28.176570683909873, 36.464704293082846, 21.809144180619754, 20.146839503010046, 28.885810606590454, 22.2218617394038, 35.80990131909641, 22.55891675229818\n",
      "$ Triglycerides                   <i64> 286, 235, 587, 378, 231, 795, 284, 370, 790, 232\n",
      "$ Physical Activity Days Per Week <i64> 0, 1, 4, 3, 1, 5, 4, 6, 7, 7\n",
      "$ Sleep Hours Per Day             <i64> 6, 7, 4, 4, 5, 10, 10, 7, 4, 7\n",
      "$ Country                         <str> 'Argentina', 'Canada', 'France', 'Canada', 'Thailand', 'Germany', 'Canada', 'Japan', 'Brazil', 'Japan'\n",
      "$ Continent                       <str> 'South America', 'North America', 'Europe', 'North America', 'Asia', 'Europe', 'North America', 'Asia', 'South America', 'Asia'\n",
      "$ Hemisphere                      <str> 'Southern Hemisphere', 'Northern Hemisphere', 'Northern Hemisphere', 'Northern Hemisphere', 'Northern Hemisphere', 'Northern Hemisphere', 'Northern Hemisphere', 'Northern Hemisphere', 'Southern Hemisphere', 'Northern Hemisphere'\n",
      "$ Heart Attack Risk               <i64> 0, 0, 0, 0, 0, 1, 1, 1, 0, 0\n",
      "\n"
     ]
    }
   ],
   "source": [
    "import polars as pl\n",
    "\n",
    "data = 'data/heart_attack_prediction_dataset.csv'\n",
    "\n",
    "df_import = pl.read_csv(data)\n",
    "\n",
    "df_import.glimpse()"
   ]
  },
  {
   "cell_type": "code",
   "execution_count": 21,
   "metadata": {},
   "outputs": [
    {
     "data": {
      "text/html": [
       "<div><style>\n",
       ".dataframe > thead > tr,\n",
       ".dataframe > tbody > tr {\n",
       "  text-align: right;\n",
       "  white-space: pre-wrap;\n",
       "}\n",
       "</style>\n",
       "<small>shape: (5, 26)</small><table border=\"1\" class=\"dataframe\"><thead><tr><th>Patient ID</th><th>Age</th><th>Sex</th><th>Cholesterol</th><th>Blood Pressure</th><th>Heart Rate</th><th>Diabetes</th><th>Family History</th><th>Smoking</th><th>Obesity</th><th>Alcohol Consumption</th><th>Exercise Hours Per Week</th><th>Diet</th><th>Previous Heart Problems</th><th>Medication Use</th><th>Stress Level</th><th>Sedentary Hours Per Day</th><th>Income</th><th>BMI</th><th>Triglycerides</th><th>Physical Activity Days Per Week</th><th>Sleep Hours Per Day</th><th>Country</th><th>Continent</th><th>Hemisphere</th><th>Heart Attack Risk</th></tr><tr><td>str</td><td>i64</td><td>str</td><td>i64</td><td>str</td><td>i64</td><td>i64</td><td>i64</td><td>i64</td><td>i64</td><td>i64</td><td>f64</td><td>str</td><td>i64</td><td>i64</td><td>i64</td><td>f64</td><td>i64</td><td>f64</td><td>i64</td><td>i64</td><td>i64</td><td>str</td><td>str</td><td>str</td><td>i64</td></tr></thead><tbody><tr><td>&quot;BMW7812&quot;</td><td>67</td><td>&quot;Male&quot;</td><td>208</td><td>&quot;158/88&quot;</td><td>72</td><td>0</td><td>0</td><td>1</td><td>0</td><td>0</td><td>4.168189</td><td>&quot;Average&quot;</td><td>0</td><td>0</td><td>9</td><td>6.615001</td><td>261404</td><td>31.251233</td><td>286</td><td>0</td><td>6</td><td>&quot;Argentina&quot;</td><td>&quot;South America&quot;</td><td>&quot;Southern Hemisphere&quot;</td><td>0</td></tr><tr><td>&quot;CZE1114&quot;</td><td>21</td><td>&quot;Male&quot;</td><td>389</td><td>&quot;165/93&quot;</td><td>98</td><td>1</td><td>1</td><td>1</td><td>1</td><td>1</td><td>1.813242</td><td>&quot;Unhealthy&quot;</td><td>1</td><td>0</td><td>1</td><td>4.963459</td><td>285768</td><td>27.194973</td><td>235</td><td>1</td><td>7</td><td>&quot;Canada&quot;</td><td>&quot;North America&quot;</td><td>&quot;Northern Hemisphere&quot;</td><td>0</td></tr><tr><td>&quot;BNI9906&quot;</td><td>21</td><td>&quot;Female&quot;</td><td>324</td><td>&quot;174/99&quot;</td><td>72</td><td>1</td><td>0</td><td>0</td><td>0</td><td>0</td><td>2.078353</td><td>&quot;Healthy&quot;</td><td>1</td><td>1</td><td>9</td><td>9.463426</td><td>235282</td><td>28.176571</td><td>587</td><td>4</td><td>4</td><td>&quot;France&quot;</td><td>&quot;Europe&quot;</td><td>&quot;Northern Hemisphere&quot;</td><td>0</td></tr><tr><td>&quot;JLN3497&quot;</td><td>84</td><td>&quot;Male&quot;</td><td>383</td><td>&quot;163/100&quot;</td><td>73</td><td>1</td><td>1</td><td>1</td><td>0</td><td>1</td><td>9.82813</td><td>&quot;Average&quot;</td><td>1</td><td>0</td><td>9</td><td>7.648981</td><td>125640</td><td>36.464704</td><td>378</td><td>3</td><td>4</td><td>&quot;Canada&quot;</td><td>&quot;North America&quot;</td><td>&quot;Northern Hemisphere&quot;</td><td>0</td></tr><tr><td>&quot;GFO8847&quot;</td><td>66</td><td>&quot;Male&quot;</td><td>318</td><td>&quot;91/88&quot;</td><td>93</td><td>1</td><td>1</td><td>1</td><td>1</td><td>0</td><td>5.804299</td><td>&quot;Unhealthy&quot;</td><td>1</td><td>0</td><td>6</td><td>1.514821</td><td>160555</td><td>21.809144</td><td>231</td><td>1</td><td>5</td><td>&quot;Thailand&quot;</td><td>&quot;Asia&quot;</td><td>&quot;Northern Hemisphere&quot;</td><td>0</td></tr></tbody></table></div>"
      ],
      "text/plain": [
       "shape: (5, 26)\n",
       "┌────────────┬─────┬────────┬─────────────┬───┬───────────┬───────────┬────────────┬────────┐\n",
       "│ Patient ID ┆ Age ┆ Sex    ┆ Cholesterol ┆ … ┆ Country   ┆ Continent ┆ Hemisphere ┆ Heart  │\n",
       "│ ---        ┆ --- ┆ ---    ┆ ---         ┆   ┆ ---       ┆ ---       ┆ ---        ┆ Attack │\n",
       "│ str        ┆ i64 ┆ str    ┆ i64         ┆   ┆ str       ┆ str       ┆ str        ┆ Risk   │\n",
       "│            ┆     ┆        ┆             ┆   ┆           ┆           ┆            ┆ ---    │\n",
       "│            ┆     ┆        ┆             ┆   ┆           ┆           ┆            ┆ i64    │\n",
       "╞════════════╪═════╪════════╪═════════════╪═══╪═══════════╪═══════════╪════════════╪════════╡\n",
       "│ BMW7812    ┆ 67  ┆ Male   ┆ 208         ┆ … ┆ Argentina ┆ South     ┆ Southern   ┆ 0      │\n",
       "│            ┆     ┆        ┆             ┆   ┆           ┆ America   ┆ Hemisphere ┆        │\n",
       "│ CZE1114    ┆ 21  ┆ Male   ┆ 389         ┆ … ┆ Canada    ┆ North     ┆ Northern   ┆ 0      │\n",
       "│            ┆     ┆        ┆             ┆   ┆           ┆ America   ┆ Hemisphere ┆        │\n",
       "│ BNI9906    ┆ 21  ┆ Female ┆ 324         ┆ … ┆ France    ┆ Europe    ┆ Northern   ┆ 0      │\n",
       "│            ┆     ┆        ┆             ┆   ┆           ┆           ┆ Hemisphere ┆        │\n",
       "│ JLN3497    ┆ 84  ┆ Male   ┆ 383         ┆ … ┆ Canada    ┆ North     ┆ Northern   ┆ 0      │\n",
       "│            ┆     ┆        ┆             ┆   ┆           ┆ America   ┆ Hemisphere ┆        │\n",
       "│ GFO8847    ┆ 66  ┆ Male   ┆ 318         ┆ … ┆ Thailand  ┆ Asia      ┆ Northern   ┆ 0      │\n",
       "│            ┆     ┆        ┆             ┆   ┆           ┆           ┆ Hemisphere ┆        │\n",
       "└────────────┴─────┴────────┴─────────────┴───┴───────────┴───────────┴────────────┴────────┘"
      ]
     },
     "execution_count": 21,
     "metadata": {},
     "output_type": "execute_result"
    }
   ],
   "source": [
    "df_import.head()"
   ]
  },
  {
   "cell_type": "code",
   "execution_count": 23,
   "metadata": {},
   "outputs": [
    {
     "data": {
      "text/plain": [
       "['Patient ID',\n",
       " 'Age',\n",
       " 'Sex',\n",
       " 'Cholesterol',\n",
       " 'Blood Pressure',\n",
       " 'Heart Rate',\n",
       " 'Diabetes',\n",
       " 'Family History',\n",
       " 'Smoking',\n",
       " 'Obesity',\n",
       " 'Alcohol Consumption',\n",
       " 'Exercise Hours Per Week',\n",
       " 'Diet',\n",
       " 'Previous Heart Problems',\n",
       " 'Medication Use',\n",
       " 'Stress Level',\n",
       " 'Sedentary Hours Per Day',\n",
       " 'Income',\n",
       " 'BMI',\n",
       " 'Triglycerides',\n",
       " 'Physical Activity Days Per Week',\n",
       " 'Sleep Hours Per Day',\n",
       " 'Country',\n",
       " 'Continent',\n",
       " 'Hemisphere',\n",
       " 'Heart Attack Risk']"
      ]
     },
     "execution_count": 23,
     "metadata": {},
     "output_type": "execute_result"
    }
   ],
   "source": [
    "df_import.columns"
   ]
  },
  {
   "cell_type": "markdown",
   "metadata": {},
   "source": [
    "While Polars does not have an `info` function, `polars.describe` covers all data types and includes a null count. Polars typically also presents the data type"
   ]
  },
  {
   "cell_type": "code",
   "execution_count": 7,
   "metadata": {},
   "outputs": [
    {
     "data": {
      "text/html": [
       "<div><style>\n",
       ".dataframe > thead > tr,\n",
       ".dataframe > tbody > tr {\n",
       "  text-align: right;\n",
       "  white-space: pre-wrap;\n",
       "}\n",
       "</style>\n",
       "<small>shape: (9, 27)</small><table border=\"1\" class=\"dataframe\"><thead><tr><th>statistic</th><th>Patient ID</th><th>Age</th><th>Sex</th><th>Cholesterol</th><th>Blood Pressure</th><th>Heart Rate</th><th>Diabetes</th><th>Family History</th><th>Smoking</th><th>Obesity</th><th>Alcohol Consumption</th><th>Exercise Hours Per Week</th><th>Diet</th><th>Previous Heart Problems</th><th>Medication Use</th><th>Stress Level</th><th>Sedentary Hours Per Day</th><th>Income</th><th>BMI</th><th>Triglycerides</th><th>Physical Activity Days Per Week</th><th>Sleep Hours Per Day</th><th>Country</th><th>Continent</th><th>Hemisphere</th><th>Heart Attack Risk</th></tr><tr><td>str</td><td>str</td><td>f64</td><td>str</td><td>f64</td><td>str</td><td>f64</td><td>f64</td><td>f64</td><td>f64</td><td>f64</td><td>f64</td><td>f64</td><td>str</td><td>f64</td><td>f64</td><td>f64</td><td>f64</td><td>f64</td><td>f64</td><td>f64</td><td>f64</td><td>f64</td><td>str</td><td>str</td><td>str</td><td>f64</td></tr></thead><tbody><tr><td>&quot;count&quot;</td><td>&quot;8763&quot;</td><td>8763.0</td><td>&quot;8763&quot;</td><td>8763.0</td><td>&quot;8763&quot;</td><td>8763.0</td><td>8763.0</td><td>8763.0</td><td>8763.0</td><td>8763.0</td><td>8763.0</td><td>8763.0</td><td>&quot;8763&quot;</td><td>8763.0</td><td>8763.0</td><td>8763.0</td><td>8763.0</td><td>8763.0</td><td>8763.0</td><td>8763.0</td><td>8763.0</td><td>8763.0</td><td>&quot;8763&quot;</td><td>&quot;8763&quot;</td><td>&quot;8763&quot;</td><td>8763.0</td></tr><tr><td>&quot;null_count&quot;</td><td>&quot;0&quot;</td><td>0.0</td><td>&quot;0&quot;</td><td>0.0</td><td>&quot;0&quot;</td><td>0.0</td><td>0.0</td><td>0.0</td><td>0.0</td><td>0.0</td><td>0.0</td><td>0.0</td><td>&quot;0&quot;</td><td>0.0</td><td>0.0</td><td>0.0</td><td>0.0</td><td>0.0</td><td>0.0</td><td>0.0</td><td>0.0</td><td>0.0</td><td>&quot;0&quot;</td><td>&quot;0&quot;</td><td>&quot;0&quot;</td><td>0.0</td></tr><tr><td>&quot;mean&quot;</td><td>null</td><td>53.707977</td><td>null</td><td>259.877211</td><td>null</td><td>75.021682</td><td>0.652288</td><td>0.492982</td><td>0.896839</td><td>0.501426</td><td>0.598083</td><td>10.014284</td><td>null</td><td>0.495835</td><td>0.498345</td><td>5.469702</td><td>5.99369</td><td>158263.181901</td><td>28.891446</td><td>417.677051</td><td>3.489672</td><td>7.023508</td><td>null</td><td>null</td><td>null</td><td>0.358211</td></tr><tr><td>&quot;std&quot;</td><td>null</td><td>21.249509</td><td>null</td><td>80.863276</td><td>null</td><td>20.550948</td><td>0.476271</td><td>0.499979</td><td>0.304186</td><td>0.500026</td><td>0.490313</td><td>5.783745</td><td>null</td><td>0.500011</td><td>0.500026</td><td>2.859622</td><td>3.466359</td><td>80575.190806</td><td>6.319181</td><td>223.748137</td><td>2.282687</td><td>1.988473</td><td>null</td><td>null</td><td>null</td><td>0.479502</td></tr><tr><td>&quot;min&quot;</td><td>&quot;AAA9246&quot;</td><td>18.0</td><td>&quot;Female&quot;</td><td>120.0</td><td>&quot;100/100&quot;</td><td>40.0</td><td>0.0</td><td>0.0</td><td>0.0</td><td>0.0</td><td>0.0</td><td>0.002442</td><td>&quot;Average&quot;</td><td>0.0</td><td>0.0</td><td>1.0</td><td>0.001263</td><td>20062.0</td><td>18.002337</td><td>30.0</td><td>0.0</td><td>4.0</td><td>&quot;Argentina&quot;</td><td>&quot;Africa&quot;</td><td>&quot;Northern Hemisphere&quot;</td><td>0.0</td></tr><tr><td>&quot;25%&quot;</td><td>null</td><td>35.0</td><td>null</td><td>192.0</td><td>null</td><td>57.0</td><td>0.0</td><td>0.0</td><td>1.0</td><td>0.0</td><td>0.0</td><td>4.983194</td><td>null</td><td>0.0</td><td>0.0</td><td>3.0</td><td>2.998805</td><td>88321.0</td><td>23.424396</td><td>226.0</td><td>2.0</td><td>5.0</td><td>null</td><td>null</td><td>null</td><td>0.0</td></tr><tr><td>&quot;50%&quot;</td><td>null</td><td>54.0</td><td>null</td><td>259.0</td><td>null</td><td>75.0</td><td>1.0</td><td>0.0</td><td>1.0</td><td>1.0</td><td>1.0</td><td>10.069559</td><td>null</td><td>0.0</td><td>0.0</td><td>5.0</td><td>5.933622</td><td>157866.0</td><td>28.768999</td><td>417.0</td><td>3.0</td><td>7.0</td><td>null</td><td>null</td><td>null</td><td>0.0</td></tr><tr><td>&quot;75%&quot;</td><td>null</td><td>72.0</td><td>null</td><td>330.0</td><td>null</td><td>93.0</td><td>1.0</td><td>1.0</td><td>1.0</td><td>1.0</td><td>1.0</td><td>15.052008</td><td>null</td><td>1.0</td><td>1.0</td><td>8.0</td><td>9.019315</td><td>227753.0</td><td>34.326774</td><td>612.0</td><td>5.0</td><td>9.0</td><td>null</td><td>null</td><td>null</td><td>1.0</td></tr><tr><td>&quot;max&quot;</td><td>&quot;ZZY4724&quot;</td><td>90.0</td><td>&quot;Male&quot;</td><td>400.0</td><td>&quot;99/98&quot;</td><td>110.0</td><td>1.0</td><td>1.0</td><td>1.0</td><td>1.0</td><td>1.0</td><td>19.998709</td><td>&quot;Unhealthy&quot;</td><td>1.0</td><td>1.0</td><td>10.0</td><td>11.999313</td><td>299954.0</td><td>39.997211</td><td>800.0</td><td>7.0</td><td>10.0</td><td>&quot;Vietnam&quot;</td><td>&quot;South America&quot;</td><td>&quot;Southern Hemisphere&quot;</td><td>1.0</td></tr></tbody></table></div>"
      ],
      "text/plain": [
       "shape: (9, 27)\n",
       "┌────────────┬────────────┬───────────┬────────┬───┬───────────┬───────────┬───────────┬───────────┐\n",
       "│ statistic  ┆ Patient ID ┆ Age       ┆ Sex    ┆ … ┆ Country   ┆ Continent ┆ Hemispher ┆ Heart     │\n",
       "│ ---        ┆ ---        ┆ ---       ┆ ---    ┆   ┆ ---       ┆ ---       ┆ e         ┆ Attack    │\n",
       "│ str        ┆ str        ┆ f64       ┆ str    ┆   ┆ str       ┆ str       ┆ ---       ┆ Risk      │\n",
       "│            ┆            ┆           ┆        ┆   ┆           ┆           ┆ str       ┆ ---       │\n",
       "│            ┆            ┆           ┆        ┆   ┆           ┆           ┆           ┆ f64       │\n",
       "╞════════════╪════════════╪═══════════╪════════╪═══╪═══════════╪═══════════╪═══════════╪═══════════╡\n",
       "│ count      ┆ 8763       ┆ 8763.0    ┆ 8763   ┆ … ┆ 8763      ┆ 8763      ┆ 8763      ┆ 8763.0    │\n",
       "│ null_count ┆ 0          ┆ 0.0       ┆ 0      ┆ … ┆ 0         ┆ 0         ┆ 0         ┆ 0.0       │\n",
       "│ mean       ┆ null       ┆ 53.707977 ┆ null   ┆ … ┆ null      ┆ null      ┆ null      ┆ 0.358211  │\n",
       "│ std        ┆ null       ┆ 21.249509 ┆ null   ┆ … ┆ null      ┆ null      ┆ null      ┆ 0.479502  │\n",
       "│ min        ┆ AAA9246    ┆ 18.0      ┆ Female ┆ … ┆ Argentina ┆ Africa    ┆ Northern  ┆ 0.0       │\n",
       "│            ┆            ┆           ┆        ┆   ┆           ┆           ┆ Hemispher ┆           │\n",
       "│            ┆            ┆           ┆        ┆   ┆           ┆           ┆ e         ┆           │\n",
       "│ 25%        ┆ null       ┆ 35.0      ┆ null   ┆ … ┆ null      ┆ null      ┆ null      ┆ 0.0       │\n",
       "│ 50%        ┆ null       ┆ 54.0      ┆ null   ┆ … ┆ null      ┆ null      ┆ null      ┆ 0.0       │\n",
       "│ 75%        ┆ null       ┆ 72.0      ┆ null   ┆ … ┆ null      ┆ null      ┆ null      ┆ 1.0       │\n",
       "│ max        ┆ ZZY4724    ┆ 90.0      ┆ Male   ┆ … ┆ Vietnam   ┆ South     ┆ Southern  ┆ 1.0       │\n",
       "│            ┆            ┆           ┆        ┆   ┆           ┆ America   ┆ Hemispher ┆           │\n",
       "│            ┆            ┆           ┆        ┆   ┆           ┆           ┆ e         ┆           │\n",
       "└────────────┴────────────┴───────────┴────────┴───┴───────────┴───────────┴───────────┴───────────┘"
      ]
     },
     "execution_count": 7,
     "metadata": {},
     "output_type": "execute_result"
    }
   ],
   "source": [
    "df_import.describe()"
   ]
  },
  {
   "cell_type": "markdown",
   "metadata": {},
   "source": [
    "If you just want to describe columns containing numeric values, you can achieve this by using the `selectors` module\n",
    "\n",
    "[See the documentation, including the list of data types, here](https://docs.pola.rs/user-guide/expressions/expression-expansion/#more-flexible-column-selections)"
   ]
  },
  {
   "cell_type": "code",
   "execution_count": 8,
   "metadata": {},
   "outputs": [
    {
     "data": {
      "text/html": [
       "<div><style>\n",
       ".dataframe > thead > tr,\n",
       ".dataframe > tbody > tr {\n",
       "  text-align: right;\n",
       "  white-space: pre-wrap;\n",
       "}\n",
       "</style>\n",
       "<small>shape: (9, 20)</small><table border=\"1\" class=\"dataframe\"><thead><tr><th>statistic</th><th>Age</th><th>Cholesterol</th><th>Heart Rate</th><th>Diabetes</th><th>Family History</th><th>Smoking</th><th>Obesity</th><th>Alcohol Consumption</th><th>Exercise Hours Per Week</th><th>Previous Heart Problems</th><th>Medication Use</th><th>Stress Level</th><th>Sedentary Hours Per Day</th><th>Income</th><th>BMI</th><th>Triglycerides</th><th>Physical Activity Days Per Week</th><th>Sleep Hours Per Day</th><th>Heart Attack Risk</th></tr><tr><td>str</td><td>f64</td><td>f64</td><td>f64</td><td>f64</td><td>f64</td><td>f64</td><td>f64</td><td>f64</td><td>f64</td><td>f64</td><td>f64</td><td>f64</td><td>f64</td><td>f64</td><td>f64</td><td>f64</td><td>f64</td><td>f64</td><td>f64</td></tr></thead><tbody><tr><td>&quot;count&quot;</td><td>8763.0</td><td>8763.0</td><td>8763.0</td><td>8763.0</td><td>8763.0</td><td>8763.0</td><td>8763.0</td><td>8763.0</td><td>8763.0</td><td>8763.0</td><td>8763.0</td><td>8763.0</td><td>8763.0</td><td>8763.0</td><td>8763.0</td><td>8763.0</td><td>8763.0</td><td>8763.0</td><td>8763.0</td></tr><tr><td>&quot;null_count&quot;</td><td>0.0</td><td>0.0</td><td>0.0</td><td>0.0</td><td>0.0</td><td>0.0</td><td>0.0</td><td>0.0</td><td>0.0</td><td>0.0</td><td>0.0</td><td>0.0</td><td>0.0</td><td>0.0</td><td>0.0</td><td>0.0</td><td>0.0</td><td>0.0</td><td>0.0</td></tr><tr><td>&quot;mean&quot;</td><td>53.707977</td><td>259.877211</td><td>75.021682</td><td>0.652288</td><td>0.492982</td><td>0.896839</td><td>0.501426</td><td>0.598083</td><td>10.014284</td><td>0.495835</td><td>0.498345</td><td>5.469702</td><td>5.99369</td><td>158263.181901</td><td>28.891446</td><td>417.677051</td><td>3.489672</td><td>7.023508</td><td>0.358211</td></tr><tr><td>&quot;std&quot;</td><td>21.249509</td><td>80.863276</td><td>20.550948</td><td>0.476271</td><td>0.499979</td><td>0.304186</td><td>0.500026</td><td>0.490313</td><td>5.783745</td><td>0.500011</td><td>0.500026</td><td>2.859622</td><td>3.466359</td><td>80575.190806</td><td>6.319181</td><td>223.748137</td><td>2.282687</td><td>1.988473</td><td>0.479502</td></tr><tr><td>&quot;min&quot;</td><td>18.0</td><td>120.0</td><td>40.0</td><td>0.0</td><td>0.0</td><td>0.0</td><td>0.0</td><td>0.0</td><td>0.002442</td><td>0.0</td><td>0.0</td><td>1.0</td><td>0.001263</td><td>20062.0</td><td>18.002337</td><td>30.0</td><td>0.0</td><td>4.0</td><td>0.0</td></tr><tr><td>&quot;25%&quot;</td><td>35.0</td><td>192.0</td><td>57.0</td><td>0.0</td><td>0.0</td><td>1.0</td><td>0.0</td><td>0.0</td><td>4.983194</td><td>0.0</td><td>0.0</td><td>3.0</td><td>2.998805</td><td>88321.0</td><td>23.424396</td><td>226.0</td><td>2.0</td><td>5.0</td><td>0.0</td></tr><tr><td>&quot;50%&quot;</td><td>54.0</td><td>259.0</td><td>75.0</td><td>1.0</td><td>0.0</td><td>1.0</td><td>1.0</td><td>1.0</td><td>10.069559</td><td>0.0</td><td>0.0</td><td>5.0</td><td>5.933622</td><td>157866.0</td><td>28.768999</td><td>417.0</td><td>3.0</td><td>7.0</td><td>0.0</td></tr><tr><td>&quot;75%&quot;</td><td>72.0</td><td>330.0</td><td>93.0</td><td>1.0</td><td>1.0</td><td>1.0</td><td>1.0</td><td>1.0</td><td>15.052008</td><td>1.0</td><td>1.0</td><td>8.0</td><td>9.019315</td><td>227753.0</td><td>34.326774</td><td>612.0</td><td>5.0</td><td>9.0</td><td>1.0</td></tr><tr><td>&quot;max&quot;</td><td>90.0</td><td>400.0</td><td>110.0</td><td>1.0</td><td>1.0</td><td>1.0</td><td>1.0</td><td>1.0</td><td>19.998709</td><td>1.0</td><td>1.0</td><td>10.0</td><td>11.999313</td><td>299954.0</td><td>39.997211</td><td>800.0</td><td>7.0</td><td>10.0</td><td>1.0</td></tr></tbody></table></div>"
      ],
      "text/plain": [
       "shape: (9, 20)\n",
       "┌───────────┬───────────┬───────────┬───────────┬───┬───────────┬───────────┬───────────┬──────────┐\n",
       "│ statistic ┆ Age       ┆ Cholester ┆ Heart     ┆ … ┆ Triglycer ┆ Physical  ┆ Sleep     ┆ Heart    │\n",
       "│ ---       ┆ ---       ┆ ol        ┆ Rate      ┆   ┆ ides      ┆ Activity  ┆ Hours Per ┆ Attack   │\n",
       "│ str       ┆ f64       ┆ ---       ┆ ---       ┆   ┆ ---       ┆ Days Per  ┆ Day       ┆ Risk     │\n",
       "│           ┆           ┆ f64       ┆ f64       ┆   ┆ f64       ┆ Wee…      ┆ ---       ┆ ---      │\n",
       "│           ┆           ┆           ┆           ┆   ┆           ┆ ---       ┆ f64       ┆ f64      │\n",
       "│           ┆           ┆           ┆           ┆   ┆           ┆ f64       ┆           ┆          │\n",
       "╞═══════════╪═══════════╪═══════════╪═══════════╪═══╪═══════════╪═══════════╪═══════════╪══════════╡\n",
       "│ count     ┆ 8763.0    ┆ 8763.0    ┆ 8763.0    ┆ … ┆ 8763.0    ┆ 8763.0    ┆ 8763.0    ┆ 8763.0   │\n",
       "│ null_coun ┆ 0.0       ┆ 0.0       ┆ 0.0       ┆ … ┆ 0.0       ┆ 0.0       ┆ 0.0       ┆ 0.0      │\n",
       "│ t         ┆           ┆           ┆           ┆   ┆           ┆           ┆           ┆          │\n",
       "│ mean      ┆ 53.707977 ┆ 259.87721 ┆ 75.021682 ┆ … ┆ 417.67705 ┆ 3.489672  ┆ 7.023508  ┆ 0.358211 │\n",
       "│           ┆           ┆ 1         ┆           ┆   ┆ 1         ┆           ┆           ┆          │\n",
       "│ std       ┆ 21.249509 ┆ 80.863276 ┆ 20.550948 ┆ … ┆ 223.74813 ┆ 2.282687  ┆ 1.988473  ┆ 0.479502 │\n",
       "│           ┆           ┆           ┆           ┆   ┆ 7         ┆           ┆           ┆          │\n",
       "│ min       ┆ 18.0      ┆ 120.0     ┆ 40.0      ┆ … ┆ 30.0      ┆ 0.0       ┆ 4.0       ┆ 0.0      │\n",
       "│ 25%       ┆ 35.0      ┆ 192.0     ┆ 57.0      ┆ … ┆ 226.0     ┆ 2.0       ┆ 5.0       ┆ 0.0      │\n",
       "│ 50%       ┆ 54.0      ┆ 259.0     ┆ 75.0      ┆ … ┆ 417.0     ┆ 3.0       ┆ 7.0       ┆ 0.0      │\n",
       "│ 75%       ┆ 72.0      ┆ 330.0     ┆ 93.0      ┆ … ┆ 612.0     ┆ 5.0       ┆ 9.0       ┆ 1.0      │\n",
       "│ max       ┆ 90.0      ┆ 400.0     ┆ 110.0     ┆ … ┆ 800.0     ┆ 7.0       ┆ 10.0      ┆ 1.0      │\n",
       "└───────────┴───────────┴───────────┴───────────┴───┴───────────┴───────────┴───────────┴──────────┘"
      ]
     },
     "execution_count": 8,
     "metadata": {},
     "output_type": "execute_result"
    }
   ],
   "source": [
    "import polars.selectors as cs\n",
    "\n",
    "describe_numeric = df_import.select(cs.numeric()).describe()\n",
    "\n",
    "describe_numeric"
   ]
  },
  {
   "cell_type": "code",
   "execution_count": 10,
   "metadata": {},
   "outputs": [
    {
     "name": "stdout",
     "output_type": "stream",
     "text": [
      "shape: (3, 1)\n",
      "┌───────────┐\n",
      "│ Diet      │\n",
      "│ ---       │\n",
      "│ str       │\n",
      "╞═══════════╡\n",
      "│ Average   │\n",
      "│ Healthy   │\n",
      "│ Unhealthy │\n",
      "└───────────┘\n"
     ]
    }
   ],
   "source": [
    "diet_categories = (\n",
    "    df_import.select(\n",
    "        pl.col(\"Diet\")\n",
    "    )\n",
    "    .unique()\n",
    ")\n",
    "\n",
    "print(diet_categories)"
   ]
  },
  {
   "cell_type": "code",
   "execution_count": 11,
   "metadata": {},
   "outputs": [
    {
     "name": "stdout",
     "output_type": "stream",
     "text": [
      "3\n"
     ]
    }
   ],
   "source": [
    "diet_categories_count = (\n",
    "    df_import.select(\n",
    "        pl.col(\"Diet\")\n",
    "    )\n",
    "    .n_unique()\n",
    ")\n",
    "\n",
    "print(diet_categories_count)"
   ]
  },
  {
   "cell_type": "code",
   "execution_count": 19,
   "metadata": {},
   "outputs": [
    {
     "name": "stdout",
     "output_type": "stream",
     "text": [
      "shape: (3, 1)\n",
      "┌────────────────────┐\n",
      "│ value_counts       │\n",
      "│ ---                │\n",
      "│ struct[2]          │\n",
      "╞════════════════════╡\n",
      "│ {\"Healthy\",2960}   │\n",
      "│ {\"Average\",2912}   │\n",
      "│ {\"Unhealthy\",2891} │\n",
      "└────────────────────┘\n"
     ]
    }
   ],
   "source": [
    "diet_categories_value_count = df_import.select(pl.col(\"Diet\").value_counts(sort=True).alias(\"value_counts\"))\n",
    "# note that you need to give this a column heading i.e. an \"alias\"\n",
    "\n",
    "print(diet_categories_value_count)"
   ]
  },
  {
   "cell_type": "markdown",
   "metadata": {},
   "source": [
    "The `value_counts` function returns a data type called a \"struct\". It is a composite data type that can store multiple \n",
    "fields in a single column.Structs are more commonly used in the Rust programming language that Polars has been programmed in.\n",
    "They can be thought of as being a bit like a Python dictionary.\n",
    "\n",
    "It is possible to split the struct out into separate columns using the `unnest` function, although this is likely unnecessary,\n",
    "if you are just using `value_counts` for EDA."
   ]
  },
  {
   "cell_type": "code",
   "execution_count": 20,
   "metadata": {},
   "outputs": [
    {
     "name": "stdout",
     "output_type": "stream",
     "text": [
      "shape: (3, 2)\n",
      "┌───────────┬───────┐\n",
      "│ Diet      ┆ count │\n",
      "│ ---       ┆ ---   │\n",
      "│ str       ┆ u32   │\n",
      "╞═══════════╪═══════╡\n",
      "│ Healthy   ┆ 2960  │\n",
      "│ Average   ┆ 2912  │\n",
      "│ Unhealthy ┆ 2891  │\n",
      "└───────────┴───────┘\n"
     ]
    }
   ],
   "source": [
    "diet_categories_value_count = df_import.select(pl.col(\"Diet\").value_counts(sort=True)).unnest(\"Diet\")\n",
    "\n",
    "print(diet_categories_value_count)"
   ]
  },
  {
   "cell_type": "code",
   "execution_count": 37,
   "metadata": {},
   "outputs": [
    {
     "data": {
      "text/html": [
       "<div><style>\n",
       ".dataframe > thead > tr,\n",
       ".dataframe > tbody > tr {\n",
       "  text-align: right;\n",
       "  white-space: pre-wrap;\n",
       "}\n",
       "</style>\n",
       "<small>shape: (1, 26)</small><table border=\"1\" class=\"dataframe\"><thead><tr><th>Patient ID</th><th>Age</th><th>Sex</th><th>Cholesterol</th><th>Blood Pressure</th><th>Heart Rate</th><th>Diabetes</th><th>Family History</th><th>Smoking</th><th>Obesity</th><th>Alcohol Consumption</th><th>Exercise Hours Per Week</th><th>Diet</th><th>Previous Heart Problems</th><th>Medication Use</th><th>Stress Level</th><th>Sedentary Hours Per Day</th><th>Income</th><th>BMI</th><th>Triglycerides</th><th>Physical Activity Days Per Week</th><th>Sleep Hours Per Day</th><th>Country</th><th>Continent</th><th>Hemisphere</th><th>Heart Attack Risk</th></tr><tr><td>f64</td><td>f64</td><td>f64</td><td>f64</td><td>f64</td><td>f64</td><td>f64</td><td>f64</td><td>f64</td><td>f64</td><td>f64</td><td>f64</td><td>f64</td><td>f64</td><td>f64</td><td>f64</td><td>f64</td><td>f64</td><td>f64</td><td>f64</td><td>f64</td><td>f64</td><td>f64</td><td>f64</td><td>f64</td><td>f64</td></tr></thead><tbody><tr><td>0.0</td><td>0.0</td><td>0.0</td><td>0.0</td><td>0.0</td><td>0.0</td><td>0.0</td><td>0.0</td><td>0.0</td><td>0.0</td><td>0.0</td><td>0.0</td><td>0.0</td><td>0.0</td><td>0.0</td><td>0.0</td><td>0.0</td><td>0.0</td><td>0.0</td><td>0.0</td><td>0.0</td><td>0.0</td><td>0.0</td><td>0.0</td><td>0.0</td><td>0.0</td></tr></tbody></table></div>"
      ],
      "text/plain": [
       "shape: (1, 26)\n",
       "┌────────────┬─────┬─────┬─────────────┬───┬─────────┬───────────┬────────────┬───────────────────┐\n",
       "│ Patient ID ┆ Age ┆ Sex ┆ Cholesterol ┆ … ┆ Country ┆ Continent ┆ Hemisphere ┆ Heart Attack Risk │\n",
       "│ ---        ┆ --- ┆ --- ┆ ---         ┆   ┆ ---     ┆ ---       ┆ ---        ┆ ---               │\n",
       "│ f64        ┆ f64 ┆ f64 ┆ f64         ┆   ┆ f64     ┆ f64       ┆ f64        ┆ f64               │\n",
       "╞════════════╪═════╪═════╪═════════════╪═══╪═════════╪═══════════╪════════════╪═══════════════════╡\n",
       "│ 0.0        ┆ 0.0 ┆ 0.0 ┆ 0.0         ┆ … ┆ 0.0     ┆ 0.0       ┆ 0.0        ┆ 0.0               │\n",
       "└────────────┴─────┴─────┴─────────────┴───┴─────────┴───────────┴────────────┴───────────────────┘"
      ]
     },
     "execution_count": 37,
     "metadata": {},
     "output_type": "execute_result"
    }
   ],
   "source": [
    "null_percentages = df_import.select(pl.all().is_null().sum()/ df_import.height) #.height is the equivalent of len(df) in Pandas\n",
    "\n",
    "null_percentages"
   ]
  },
  {
   "cell_type": "code",
   "execution_count": 42,
   "metadata": {},
   "outputs": [
    {
     "data": {
      "text/html": [
       "<div><style>\n",
       ".dataframe > thead > tr,\n",
       ".dataframe > tbody > tr {\n",
       "  text-align: right;\n",
       "  white-space: pre-wrap;\n",
       "}\n",
       "</style>\n",
       "<small>shape: (10, 3)</small><table border=\"1\" class=\"dataframe\"><thead><tr><th>Age</th><th>Sex</th><th>Cholesterol</th></tr><tr><td>i64</td><td>str</td><td>i64</td></tr></thead><tbody><tr><td>54</td><td>&quot;Female&quot;</td><td>297</td></tr><tr><td>90</td><td>&quot;Male&quot;</td><td>358</td></tr><tr><td>84</td><td>&quot;Male&quot;</td><td>220</td></tr><tr><td>20</td><td>&quot;Male&quot;</td><td>145</td></tr><tr><td>43</td><td>&quot;Female&quot;</td><td>248</td></tr><tr><td>73</td><td>&quot;Female&quot;</td><td>373</td></tr><tr><td>71</td><td>&quot;Male&quot;</td><td>374</td></tr><tr><td>77</td><td>&quot;Male&quot;</td><td>228</td></tr><tr><td>60</td><td>&quot;Male&quot;</td><td>259</td></tr><tr><td>88</td><td>&quot;Male&quot;</td><td>297</td></tr></tbody></table></div>"
      ],
      "text/plain": [
       "shape: (10, 3)\n",
       "┌─────┬────────┬─────────────┐\n",
       "│ Age ┆ Sex    ┆ Cholesterol │\n",
       "│ --- ┆ ---    ┆ ---         │\n",
       "│ i64 ┆ str    ┆ i64         │\n",
       "╞═════╪════════╪═════════════╡\n",
       "│ 54  ┆ Female ┆ 297         │\n",
       "│ 90  ┆ Male   ┆ 358         │\n",
       "│ 84  ┆ Male   ┆ 220         │\n",
       "│ 20  ┆ Male   ┆ 145         │\n",
       "│ 43  ┆ Female ┆ 248         │\n",
       "│ 73  ┆ Female ┆ 373         │\n",
       "│ 71  ┆ Male   ┆ 374         │\n",
       "│ 77  ┆ Male   ┆ 228         │\n",
       "│ 60  ┆ Male   ┆ 259         │\n",
       "│ 88  ┆ Male   ┆ 297         │\n",
       "└─────┴────────┴─────────────┘"
      ]
     },
     "execution_count": 42,
     "metadata": {},
     "output_type": "execute_result"
    }
   ],
   "source": [
    "df_import.select(pl.col(\"Age\",\"Sex\",\"Cholesterol\"))\n",
    "\n",
    "# NB: df_import[\"Cholesterol\"] also works like in Pandas"
   ]
  },
  {
   "cell_type": "code",
   "execution_count": 49,
   "metadata": {},
   "outputs": [
    {
     "data": {
      "text/html": [
       "<div><style>\n",
       ".dataframe > thead > tr,\n",
       ".dataframe > tbody > tr {\n",
       "  text-align: right;\n",
       "  white-space: pre-wrap;\n",
       "}\n",
       "</style>\n",
       "<small>shape: (5, 26)</small><table border=\"1\" class=\"dataframe\"><thead><tr><th>Patient ID</th><th>Age</th><th>Sex</th><th>Cholesterol</th><th>Blood Pressure</th><th>Heart Rate</th><th>Diabetes</th><th>Family History</th><th>Smoking</th><th>Obesity</th><th>Alcohol Consumption</th><th>Exercise Hours Per Week</th><th>Diet</th><th>Previous Heart Problems</th><th>Medication Use</th><th>Stress Level</th><th>Sedentary Hours Per Day</th><th>Income</th><th>BMI</th><th>Triglycerides</th><th>Physical Activity Days Per Week</th><th>Sleep Hours Per Day</th><th>Country</th><th>Continent</th><th>Hemisphere</th><th>Heart Attack Risk</th></tr><tr><td>str</td><td>i64</td><td>str</td><td>i64</td><td>str</td><td>i64</td><td>i64</td><td>i64</td><td>i64</td><td>i64</td><td>i64</td><td>f64</td><td>str</td><td>i64</td><td>i64</td><td>i64</td><td>f64</td><td>i64</td><td>f64</td><td>i64</td><td>i64</td><td>i64</td><td>str</td><td>str</td><td>str</td><td>i64</td></tr></thead><tbody><tr><td>&quot;ZOO7941&quot;</td><td>54</td><td>&quot;Female&quot;</td><td>297</td><td>&quot;172/86&quot;</td><td>48</td><td>1</td><td>1</td><td>1</td><td>0</td><td>1</td><td>0.625008</td><td>&quot;Unhealthy&quot;</td><td>1</td><td>1</td><td>2</td><td>7.798752</td><td>241339</td><td>20.14684</td><td>795</td><td>5</td><td>10</td><td>&quot;Germany&quot;</td><td>&quot;Europe&quot;</td><td>&quot;Northern Hemisphere&quot;</td><td>1</td></tr><tr><td>&quot;WYV0966&quot;</td><td>90</td><td>&quot;Male&quot;</td><td>358</td><td>&quot;102/73&quot;</td><td>84</td><td>0</td><td>0</td><td>1</td><td>0</td><td>1</td><td>4.098177</td><td>&quot;Healthy&quot;</td><td>0</td><td>0</td><td>7</td><td>0.627356</td><td>190450</td><td>28.885811</td><td>284</td><td>4</td><td>10</td><td>&quot;Canada&quot;</td><td>&quot;North America&quot;</td><td>&quot;Northern Hemisphere&quot;</td><td>1</td></tr><tr><td>&quot;XXM0972&quot;</td><td>84</td><td>&quot;Male&quot;</td><td>220</td><td>&quot;131/68&quot;</td><td>107</td><td>0</td><td>0</td><td>1</td><td>1</td><td>1</td><td>3.427929</td><td>&quot;Average&quot;</td><td>0</td><td>1</td><td>4</td><td>10.54378</td><td>122093</td><td>22.221862</td><td>370</td><td>6</td><td>7</td><td>&quot;Japan&quot;</td><td>&quot;Asia&quot;</td><td>&quot;Northern Hemisphere&quot;</td><td>1</td></tr><tr><td>&quot;XCQ5937&quot;</td><td>20</td><td>&quot;Male&quot;</td><td>145</td><td>&quot;144/105&quot;</td><td>68</td><td>1</td><td>0</td><td>1</td><td>1</td><td>0</td><td>16.868302</td><td>&quot;Average&quot;</td><td>0</td><td>0</td><td>5</td><td>11.348787</td><td>25086</td><td>35.809901</td><td>790</td><td>7</td><td>4</td><td>&quot;Brazil&quot;</td><td>&quot;South America&quot;</td><td>&quot;Southern Hemisphere&quot;</td><td>0</td></tr><tr><td>&quot;FTJ5456&quot;</td><td>43</td><td>&quot;Female&quot;</td><td>248</td><td>&quot;160/70&quot;</td><td>55</td><td>0</td><td>1</td><td>1</td><td>1</td><td>1</td><td>0.194515</td><td>&quot;Unhealthy&quot;</td><td>0</td><td>0</td><td>4</td><td>4.055115</td><td>209703</td><td>22.558917</td><td>232</td><td>7</td><td>7</td><td>&quot;Japan&quot;</td><td>&quot;Asia&quot;</td><td>&quot;Northern Hemisphere&quot;</td><td>0</td></tr></tbody></table></div>"
      ],
      "text/plain": [
       "shape: (5, 26)\n",
       "┌────────────┬─────┬────────┬─────────────┬───┬─────────┬──────────────┬─────────────┬─────────────┐\n",
       "│ Patient ID ┆ Age ┆ Sex    ┆ Cholesterol ┆ … ┆ Country ┆ Continent    ┆ Hemisphere  ┆ Heart       │\n",
       "│ ---        ┆ --- ┆ ---    ┆ ---         ┆   ┆ ---     ┆ ---          ┆ ---         ┆ Attack Risk │\n",
       "│ str        ┆ i64 ┆ str    ┆ i64         ┆   ┆ str     ┆ str          ┆ str         ┆ ---         │\n",
       "│            ┆     ┆        ┆             ┆   ┆         ┆              ┆             ┆ i64         │\n",
       "╞════════════╪═════╪════════╪═════════════╪═══╪═════════╪══════════════╪═════════════╪═════════════╡\n",
       "│ ZOO7941    ┆ 54  ┆ Female ┆ 297         ┆ … ┆ Germany ┆ Europe       ┆ Northern    ┆ 1           │\n",
       "│            ┆     ┆        ┆             ┆   ┆         ┆              ┆ Hemisphere  ┆             │\n",
       "│ WYV0966    ┆ 90  ┆ Male   ┆ 358         ┆ … ┆ Canada  ┆ North        ┆ Northern    ┆ 1           │\n",
       "│            ┆     ┆        ┆             ┆   ┆         ┆ America      ┆ Hemisphere  ┆             │\n",
       "│ XXM0972    ┆ 84  ┆ Male   ┆ 220         ┆ … ┆ Japan   ┆ Asia         ┆ Northern    ┆ 1           │\n",
       "│            ┆     ┆        ┆             ┆   ┆         ┆              ┆ Hemisphere  ┆             │\n",
       "│ XCQ5937    ┆ 20  ┆ Male   ┆ 145         ┆ … ┆ Brazil  ┆ South        ┆ Southern    ┆ 0           │\n",
       "│            ┆     ┆        ┆             ┆   ┆         ┆ America      ┆ Hemisphere  ┆             │\n",
       "│ FTJ5456    ┆ 43  ┆ Female ┆ 248         ┆ … ┆ Japan   ┆ Asia         ┆ Northern    ┆ 0           │\n",
       "│            ┆     ┆        ┆             ┆   ┆         ┆              ┆ Hemisphere  ┆             │\n",
       "└────────────┴─────┴────────┴─────────────┴───┴─────────┴──────────────┴─────────────┴─────────────┘"
      ]
     },
     "execution_count": 49,
     "metadata": {},
     "output_type": "execute_result"
    }
   ],
   "source": [
    "# Slicing by rows can be done using Python syntax\n",
    "\n",
    "df_import[5:10]"
   ]
  },
  {
   "cell_type": "code",
   "execution_count": 46,
   "metadata": {},
   "outputs": [
    {
     "data": {
      "text/html": [
       "<div><style>\n",
       ".dataframe > thead > tr,\n",
       ".dataframe > tbody > tr {\n",
       "  text-align: right;\n",
       "  white-space: pre-wrap;\n",
       "}\n",
       "</style>\n",
       "<small>shape: (10, 3)</small><table border=\"1\" class=\"dataframe\"><thead><tr><th>Age</th><th>Sex</th><th>Cholesterol</th></tr><tr><td>i64</td><td>str</td><td>i64</td></tr></thead><tbody><tr><td>54</td><td>&quot;Female&quot;</td><td>297</td></tr><tr><td>90</td><td>&quot;Male&quot;</td><td>358</td></tr><tr><td>84</td><td>&quot;Male&quot;</td><td>220</td></tr><tr><td>20</td><td>&quot;Male&quot;</td><td>145</td></tr><tr><td>43</td><td>&quot;Female&quot;</td><td>248</td></tr><tr><td>73</td><td>&quot;Female&quot;</td><td>373</td></tr><tr><td>71</td><td>&quot;Male&quot;</td><td>374</td></tr><tr><td>77</td><td>&quot;Male&quot;</td><td>228</td></tr><tr><td>60</td><td>&quot;Male&quot;</td><td>259</td></tr><tr><td>88</td><td>&quot;Male&quot;</td><td>297</td></tr></tbody></table></div>"
      ],
      "text/plain": [
       "shape: (10, 3)\n",
       "┌─────┬────────┬─────────────┐\n",
       "│ Age ┆ Sex    ┆ Cholesterol │\n",
       "│ --- ┆ ---    ┆ ---         │\n",
       "│ i64 ┆ str    ┆ i64         │\n",
       "╞═════╪════════╪═════════════╡\n",
       "│ 54  ┆ Female ┆ 297         │\n",
       "│ 90  ┆ Male   ┆ 358         │\n",
       "│ 84  ┆ Male   ┆ 220         │\n",
       "│ 20  ┆ Male   ┆ 145         │\n",
       "│ 43  ┆ Female ┆ 248         │\n",
       "│ 73  ┆ Female ┆ 373         │\n",
       "│ 71  ┆ Male   ┆ 374         │\n",
       "│ 77  ┆ Male   ┆ 228         │\n",
       "│ 60  ┆ Male   ┆ 259         │\n",
       "│ 88  ┆ Male   ┆ 297         │\n",
       "└─────┴────────┴─────────────┘"
      ]
     },
     "execution_count": 46,
     "metadata": {},
     "output_type": "execute_result"
    }
   ],
   "source": [
    "# Or can be done using .slice(). However, you can't do step, like you can with the standard Python syntax.\n",
    "\n",
    "df_import_diced = (\n",
    "    df_import.select(\n",
    "        pl.col(\"Age\",\"Sex\",\"Cholesterol\")\n",
    "    )\n",
    "    .slice(5,10)\n",
    ")\n",
    "\n",
    "df_import_diced"
   ]
  },
  {
   "cell_type": "markdown",
   "metadata": {},
   "source": [
    "If you were wondering about the default numeric index that you get with Pandas, you have to add it."
   ]
  },
  {
   "cell_type": "code",
   "execution_count": 47,
   "metadata": {},
   "outputs": [
    {
     "data": {
      "text/html": [
       "<div><style>\n",
       ".dataframe > thead > tr,\n",
       ".dataframe > tbody > tr {\n",
       "  text-align: right;\n",
       "  white-space: pre-wrap;\n",
       "}\n",
       "</style>\n",
       "<small>shape: (10, 4)</small><table border=\"1\" class=\"dataframe\"><thead><tr><th>index</th><th>Age</th><th>Sex</th><th>Cholesterol</th></tr><tr><td>u32</td><td>i64</td><td>str</td><td>i64</td></tr></thead><tbody><tr><td>0</td><td>54</td><td>&quot;Female&quot;</td><td>297</td></tr><tr><td>1</td><td>90</td><td>&quot;Male&quot;</td><td>358</td></tr><tr><td>2</td><td>84</td><td>&quot;Male&quot;</td><td>220</td></tr><tr><td>3</td><td>20</td><td>&quot;Male&quot;</td><td>145</td></tr><tr><td>4</td><td>43</td><td>&quot;Female&quot;</td><td>248</td></tr><tr><td>5</td><td>73</td><td>&quot;Female&quot;</td><td>373</td></tr><tr><td>6</td><td>71</td><td>&quot;Male&quot;</td><td>374</td></tr><tr><td>7</td><td>77</td><td>&quot;Male&quot;</td><td>228</td></tr><tr><td>8</td><td>60</td><td>&quot;Male&quot;</td><td>259</td></tr><tr><td>9</td><td>88</td><td>&quot;Male&quot;</td><td>297</td></tr></tbody></table></div>"
      ],
      "text/plain": [
       "shape: (10, 4)\n",
       "┌───────┬─────┬────────┬─────────────┐\n",
       "│ index ┆ Age ┆ Sex    ┆ Cholesterol │\n",
       "│ ---   ┆ --- ┆ ---    ┆ ---         │\n",
       "│ u32   ┆ i64 ┆ str    ┆ i64         │\n",
       "╞═══════╪═════╪════════╪═════════════╡\n",
       "│ 0     ┆ 54  ┆ Female ┆ 297         │\n",
       "│ 1     ┆ 90  ┆ Male   ┆ 358         │\n",
       "│ 2     ┆ 84  ┆ Male   ┆ 220         │\n",
       "│ 3     ┆ 20  ┆ Male   ┆ 145         │\n",
       "│ 4     ┆ 43  ┆ Female ┆ 248         │\n",
       "│ 5     ┆ 73  ┆ Female ┆ 373         │\n",
       "│ 6     ┆ 71  ┆ Male   ┆ 374         │\n",
       "│ 7     ┆ 77  ┆ Male   ┆ 228         │\n",
       "│ 8     ┆ 60  ┆ Male   ┆ 259         │\n",
       "│ 9     ┆ 88  ┆ Male   ┆ 297         │\n",
       "└───────┴─────┴────────┴─────────────┘"
      ]
     },
     "execution_count": 47,
     "metadata": {},
     "output_type": "execute_result"
    }
   ],
   "source": [
    "df_with_index = df_import_diced.with_row_index(name=\"index\")\n",
    "\n",
    "df_with_index"
   ]
  }
 ],
 "metadata": {
  "kernelspec": {
   "display_name": ".venv",
   "language": "python",
   "name": "python3"
  },
  "language_info": {
   "codemirror_mode": {
    "name": "ipython",
    "version": 3
   },
   "file_extension": ".py",
   "mimetype": "text/x-python",
   "name": "python",
   "nbconvert_exporter": "python",
   "pygments_lexer": "ipython3",
   "version": "3.12.7"
  }
 },
 "nbformat": 4,
 "nbformat_minor": 2
}
