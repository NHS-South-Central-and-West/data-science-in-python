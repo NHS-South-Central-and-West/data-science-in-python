{
 "cells": [
  {
   "cell_type": "markdown",
   "metadata": {},
   "source": [
    "# Extracting Data from a Formatted Excel Document to Data Columns"
   ]
  },
  {
   "cell_type": "code",
   "execution_count": null,
   "metadata": {},
   "outputs": [],
   "source": [
    "# python -m pip install pandas, openpyxl, numpy"
   ]
  },
  {
   "cell_type": "markdown",
   "metadata": {},
   "source": [
    "### Import installed packages"
   ]
  },
  {
   "cell_type": "code",
   "execution_count": null,
   "metadata": {},
   "outputs": [],
   "source": [
    "import numpy as np\n",
    "\n",
    "import pandas as pd\n",
    "\n",
    "from openpyxl import load_workbook\n"
   ]
  },
  {
   "cell_type": "markdown",
   "metadata": {},
   "source": [
    "### Specify the file and the worksheet from which we will extract the data"
   ]
  },
  {
   "cell_type": "code",
   "execution_count": null,
   "metadata": {},
   "outputs": [],
   "source": [
    "file = 'data/QWC1_Q1_23-24_QRL-D9Y0V-10R_V3.xlsx'\n",
    "\n",
    "workbook = load_workbook(filename=file, read_only= True, data_only= True) # \"data_only = True\" means that we want the values, not the formulae\n",
    "\n",
    "worksheet = workbook['Frontsheet'] # name the specific worksheet that we are interested in within the workbook"
   ]
  },
  {
   "cell_type": "markdown",
   "metadata": {},
   "source": [
    "### Create a function for extracting data from a defined cell range"
   ]
  },
  {
   "cell_type": "code",
   "execution_count": null,
   "metadata": {},
   "outputs": [],
   "source": [
    "def extract_data(first,last):               # i.e. reference for first cell and last cell in table \n",
    "    data_rows = []                          # empty list of rows of data to be extracted. It will fill up as we iterate over the cell range\n",
    "\n",
    "    for row in worksheet[first:last]:\n",
    "        data_cols = []                      # empty list of columns. It will fill up as we iterate over the cell values in a row.\n",
    "        for cell in row:\n",
    "            data_cols.append(cell.value)    # adding each cell value to a column\n",
    "        data_rows.append(data_cols)         # creating a new row from the list of column values\n",
    "    df = pd.DataFrame(data_rows)            # creating a dataframe from the list of rows\n",
    "    return df                               # output the dataframe"
   ]
  },
  {
   "cell_type": "markdown",
   "metadata": {},
   "source": [
    "### Apply the function to the cell ranges that we are interested in, assigning them to variables that we will use later"
   ]
  },
  {
   "cell_type": "code",
   "execution_count": null,
   "metadata": {},
   "outputs": [],
   "source": [
    "dataframe_1 = extract_data('D7','F12')\n",
    "dataframe_2 = extract_data('D15','H22')\n",
    "dataframe_3 = extract_data('D25','H32')\n",
    "dataframe_4 = extract_data('D36','E37')"
   ]
  },
  {
   "cell_type": "code",
   "execution_count": null,
   "metadata": {},
   "outputs": [],
   "source": [
    "dataframe_1"
   ]
  },
  {
   "cell_type": "code",
   "execution_count": null,
   "metadata": {},
   "outputs": [],
   "source": [
    "dataframe_2"
   ]
  },
  {
   "cell_type": "code",
   "execution_count": null,
   "metadata": {},
   "outputs": [],
   "source": [
    "dataframe_3"
   ]
  },
  {
   "cell_type": "code",
   "execution_count": null,
   "metadata": {},
   "outputs": [],
   "source": [
    "dataframe_4"
   ]
  },
  {
   "cell_type": "markdown",
   "metadata": {},
   "source": [
    "### Manipulating each of these dataframes so that they have a consistent number of columns and no redundant rows\n",
    "\n",
    "First of all, let's define all the columns that cover all four dataframes so that we can create one neat table at the end. If we get more of these formatted Excel files, we will be able to append them to past editions.\n"
   ]
  },
  {
   "cell_type": "code",
   "execution_count": null,
   "metadata": {},
   "outputs": [],
   "source": [
    "cols = ['question_number',\n",
    "        'question',\n",
    "        'sub_question',\n",
    "        'total',\n",
    "        'adult_total',\n",
    "        'child_total',\n",
    "        'adult_18_weeks_or_less',\n",
    "        'adult_over_18_weeks',\n",
    "        'child_18_weeks_or_less',\n",
    "        'child_over_18_weeks',\n",
    "        'text_answer'\n",
    "        ]"
   ]
  },
  {
   "cell_type": "markdown",
   "metadata": {},
   "source": [
    "### dataframe_1"
   ]
  },
  {
   "cell_type": "code",
   "execution_count": null,
   "metadata": {},
   "outputs": [],
   "source": [
    "#create Total column\n",
    "dataframe_1['total'] = dataframe_1[1] + dataframe_1[2]\n",
    "\n",
    "#rename columns from index\n",
    "dataframe_1 = dataframe_1.rename(columns={dataframe_1.columns[0]:'question',\n",
    "                                          dataframe_1.columns[1]:'adult_total',\n",
    "                                          dataframe_1.columns[2]: 'child_total'\n",
    "                                          }\n",
    "                                 )\n",
    "#drop unnecessary rows\n",
    "dataframe_1 = dataframe_1.drop(axis=0, index=[0,1])\n",
    "\n",
    "#copy the 'question' values to retain the sub-questions recorded in that column\n",
    "dataframe_1['sub_question'] = dataframe_1['question']\n",
    "\n",
    "#replace sub-questions in the 'question' with the right question\n",
    "dataframe_1.loc[4:5,'question'] = dataframe_1.loc[3,'question']\n",
    "\n",
    "#drop redundant row\n",
    "dataframe_1 = dataframe_1.drop(axis=0, index=[3])\n",
    "\n",
    "#add extra columns ######### want to make this better so that it does it for\n",
    "#all not already in there.\n",
    "\n",
    "dataframe_1[cols[0]] = np.nan\n",
    "dataframe_1[cols[6:]] = np.nan\n",
    "\n",
    "#add the question numbers\n",
    "dataframe_1.loc[2, 'question_number'] = '1'\n",
    "dataframe_1.loc[4:, 'question_number'] = '2'\n",
    "\n",
    "#re-arrange the columns\n",
    "dataframe_1 = dataframe_1[cols]"
   ]
  },
  {
   "cell_type": "markdown",
   "metadata": {},
   "source": [
    "### dataframe_2"
   ]
  },
  {
   "cell_type": "code",
   "execution_count": null,
   "metadata": {},
   "outputs": [],
   "source": [
    "#create total columns\n",
    "\n",
    "dataframe_2['adult_total'] = dataframe_2[1] + dataframe_2[2]\n",
    "dataframe_2['child_total'] = dataframe_2[3] + dataframe_2[4]\n",
    "dataframe_2['total'] = dataframe_2['adult_total'] + dataframe_2['child_total']\n",
    "\n",
    "#rename columns from index\n",
    "dataframe_2 = dataframe_2.rename(columns={dataframe_2.columns[0]:'question',\n",
    "                                          dataframe_2.columns[1]:'adult_18_weeks_or_less',\n",
    "                                          dataframe_2.columns[2]:'adult_over_18_weeks',\n",
    "                                          dataframe_2.columns[3]:'child_18_weeks_or_less',\n",
    "                                          dataframe_2.columns[4]:'child_over_18_weeks'\n",
    "                                          }\n",
    "                                 )\n",
    "\n",
    "#copy the 'question' values to retain the sub-questions recorded in that column\n",
    "dataframe_2['sub_question'] = dataframe_2['question']\n",
    "\n",
    "#replace sub-questions  in the 'question' with the right question\n",
    "dataframe_2.loc[2:7,'question'] = dataframe_2.loc[1,'question']\n",
    "\n",
    "#drop unnecessary rows\n",
    "dataframe_2 = dataframe_2.drop(axis=0, index=[0,1,2])\n",
    "\n",
    "#add extra columns\n",
    "\n",
    "dataframe_2[cols[0]] = np.nan\n",
    "dataframe_2[cols[-1]] = np.nan\n",
    "\n",
    "#add the question numbers\n",
    "dataframe_2.loc[3:, 'question_number'] = '3'\n",
    "\n",
    "#re-arrange the columns\n",
    "dataframe_2 = dataframe_2[cols]"
   ]
  },
  {
   "cell_type": "markdown",
   "metadata": {},
   "source": [
    "### dataframe_3"
   ]
  },
  {
   "cell_type": "code",
   "execution_count": null,
   "metadata": {},
   "outputs": [],
   "source": [
    "#create total columns\n",
    "\n",
    "dataframe_3['adult_total'] = dataframe_3[1] + dataframe_3[2]\n",
    "dataframe_3['child_total'] = dataframe_3[3] + dataframe_3[4]\n",
    "dataframe_3['total'] = dataframe_3['adult_total'] + dataframe_3['child_total']\n",
    "\n",
    "#rename columns from index\n",
    "dataframe_3 = dataframe_3.rename(columns={dataframe_3.columns[0]:'question',\n",
    "                                          dataframe_3.columns[1]:'adult_18_weeks_or_less',\n",
    "                                          dataframe_3.columns[2]:'adult_over_18_weeks',\n",
    "                                          dataframe_3.columns[3]:'child_18_weeks_or_less',\n",
    "                                          dataframe_3.columns[4]:'child_over_18_weeks'\n",
    "                                          }\n",
    "                                 )\n",
    "\n",
    "#copy the 'question' values to retain the sub-questions recorded in that column\n",
    "dataframe_3['sub_question'] = dataframe_3['question']\n",
    "\n",
    "#replace sub-questionns questions in the 'question' with the right question\n",
    "dataframe_3.loc[2:7,'question'] = dataframe_3.loc[1,'question']\n",
    "\n",
    "#drop unnecessary rows\n",
    "dataframe_3 = dataframe_3.drop(axis=0, index=[0,1,2])\n",
    "\n",
    "#add extra columns \n",
    "dataframe_3[cols[0]] = np.nan\n",
    "dataframe_3[cols[-1]] = np.nan\n",
    "\n",
    "#add the question numbers\n",
    "dataframe_3.loc[3:, 'question_number'] = '4'\n",
    "\n",
    "#re-arrange the columns\n",
    "dataframe_3 = dataframe_3[cols]"
   ]
  },
  {
   "cell_type": "markdown",
   "metadata": {},
   "source": [
    "### dataframe_4"
   ]
  },
  {
   "cell_type": "code",
   "execution_count": null,
   "metadata": {},
   "outputs": [],
   "source": [
    "dataframe_4[cols[0]] = np.nan\n",
    "dataframe_4[cols[2]] = np.nan\n",
    "dataframe_4[cols[4:]] = np.nan\n",
    "\n",
    "#rename column\n",
    "dataframe_4 = dataframe_4.rename(columns={dataframe_4.columns[0]:'question',\n",
    "                                          dataframe_4.columns[1]:'total'})\n",
    "\n",
    "#move text value to 'text_answer' column\n",
    "dataframe_4.loc[1,'text_answer'] = dataframe_4.loc[1,'total']\n",
    "\n",
    "#remove text value from 'total' column\n",
    "\n",
    "dataframe_4.loc[1,'total'] = np.nan\n",
    "\n",
    "#add the question numbers\n",
    "dataframe_4.loc[0, 'question_number'] = '5'\n",
    "dataframe_4.loc[1, 'question_number'] = '6'\n",
    "\n",
    "#re-arrange the columns\n",
    "dataframe_4 = dataframe_4[cols]"
   ]
  },
  {
   "cell_type": "markdown",
   "metadata": {},
   "source": [
    "### Prepare the combined data for export"
   ]
  },
  {
   "cell_type": "code",
   "execution_count": null,
   "metadata": {},
   "outputs": [],
   "source": [
    "dataframe_export = pd.concat([dataframe_1,dataframe_2,dataframe_3,dataframe_4],ignore_index = True) # join the four dataframes into one\n",
    "\n",
    "dataframe_export\n",
    "# NaN values are Python's equivalent of NULLs"
   ]
  },
  {
   "cell_type": "markdown",
   "metadata": {},
   "source": [
    "### Tidy up the data types and fill blanks in the text columns"
   ]
  },
  {
   "cell_type": "code",
   "execution_count": null,
   "metadata": {},
   "outputs": [],
   "source": [
    "dataframe_export['total'] = dataframe_export['total'].apply(pd.to_numeric,errors = 'coerce')\n",
    "dataframe_export['adult_total'] = dataframe_export['adult_total'].apply(pd.to_numeric,errors = 'coerce')\n",
    "dataframe_export['child_total'] = dataframe_export['child_total'].apply(pd.to_numeric,errors = 'coerce')\n",
    "dataframe_export['adult_18_weeks_or_less'] = dataframe_export['adult_18_weeks_or_less'].apply(pd.to_numeric,errors = 'coerce')\n",
    "dataframe_export['adult_over_18_weeks'] = dataframe_export['adult_over_18_weeks'].apply(pd.to_numeric,errors = 'coerce')\n",
    "dataframe_export['child_18_weeks_or_less'] = dataframe_export['child_18_weeks_or_less'].apply(pd.to_numeric,errors = 'coerce')\n",
    "dataframe_export['child_over_18_weeks'] = dataframe_export['child_over_18_weeks'].apply(pd.to_numeric,errors = 'coerce')\n",
    "\n",
    "dataframe_export['question_number'] = dataframe_export['question_number'].astype(\"string\")\n",
    "dataframe_export['question'] = dataframe_export['question'].astype(\"string\")\n",
    "dataframe_export['sub_question'] = dataframe_export['sub_question'].astype(\"string\")\n",
    "dataframe_export['text_answer'] = dataframe_export['text_answer'].astype(\"string\")\n",
    "\n",
    "dataframe_export['text_answer'] = dataframe_export['text_answer'].fillna('Not applicable')\n",
    "dataframe_export['sub_question'] = dataframe_export['sub_question'].fillna('Not applicable')\n"
   ]
  },
  {
   "cell_type": "markdown",
   "metadata": {},
   "source": [
    "### Export to .csv"
   ]
  },
  {
   "cell_type": "code",
   "execution_count": null,
   "metadata": {},
   "outputs": [],
   "source": [
    "dataframe_export.to_csv('data/nice_neat_output.csv',index= False) \n",
    "# we don't want the dataframe index column to appear in the file, hence \"index= False\"\n",
    "# you can include the folder name (i.e. \"/data\") in the file name argument to send the output to a subfolder of your working directory"
   ]
  },
  {
   "cell_type": "markdown",
   "metadata": {},
   "source": [
    "### Final note\n",
    "\n",
    "It would be possible to adapt this code to carry out the process for multiple files at a time. The filename could be added as a column so that you have a record of the source.\n",
    "\n",
    "Since the filename includes a financial year and a quarter, these could also be extracted and added as columns so that these could be identified in the data when working with multiple submissions. This would be especially useful, if you wanted to upload the data to the warehouse."
   ]
  }
 ],
 "metadata": {
  "kernelspec": {
   "display_name": "surgery-venv",
   "language": "python",
   "name": "python3"
  },
  "language_info": {
   "codemirror_mode": {
    "name": "ipython",
    "version": 3
   },
   "file_extension": ".py",
   "mimetype": "text/x-python",
   "name": "python",
   "nbconvert_exporter": "python",
   "pygments_lexer": "ipython3",
   "version": "3.9.0"
  }
 },
 "nbformat": 4,
 "nbformat_minor": 2
}
