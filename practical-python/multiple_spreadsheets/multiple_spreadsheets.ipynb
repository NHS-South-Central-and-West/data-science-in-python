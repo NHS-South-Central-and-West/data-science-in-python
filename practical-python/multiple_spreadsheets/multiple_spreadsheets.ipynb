{
 "cells": [
  {
   "cell_type": "markdown",
   "metadata": {},
   "source": [
    "# Combining Data from Multiple Spreadsheets"
   ]
  },
  {
   "cell_type": "code",
   "execution_count": 1,
   "metadata": {},
   "outputs": [],
   "source": [
    "# python -m pip install pandas, openpyxl"
   ]
  },
  {
   "cell_type": "markdown",
   "metadata": {},
   "source": [
    "### Import installed packages"
   ]
  },
  {
   "cell_type": "code",
   "execution_count": 2,
   "metadata": {},
   "outputs": [],
   "source": [
    "import os # for performing operating system operations, such as accessing file directories\n",
    "\n",
    "import glob  # used for finding files matching a particular pattern\n",
    "\n",
    "import pandas as pd\n",
    "\n",
    "from openpyxl import load_workbook"
   ]
  },
  {
   "cell_type": "markdown",
   "metadata": {},
   "source": [
    "### Specify the folder where the files are held and the file type"
   ]
  },
  {
   "cell_type": "code",
   "execution_count": 3,
   "metadata": {},
   "outputs": [],
   "source": [
    "path = './data' # i.e. the data folder within the current directory (represented by the \".\")\n",
    "\n",
    "file_list = glob.glob(os.path.join(path, '*.xlsx')) # get all the .xlsx files in the folder\n",
    "\n",
    "# The \"glob\" function in the \"glob\" library looks for any files that match the pattern of the file path + any .xlsx file\n",
    "# where the \"*\" is a wildcard for any string (i.e. any file name). The \"os\" library is used to join the file path to the\n",
    "# file names."
   ]
  },
  {
   "cell_type": "markdown",
   "metadata": {},
   "source": [
    "### Let's count how many files that relates to:"
   ]
  },
  {
   "cell_type": "code",
   "execution_count": 4,
   "metadata": {},
   "outputs": [
    {
     "name": "stdout",
     "output_type": "stream",
     "text": [
      "36\n"
     ]
    }
   ],
   "source": [
    "print(len(file_list))"
   ]
  },
  {
   "cell_type": "markdown",
   "metadata": {},
   "source": [
    "### Nested functions to extract data from specific cell ranges and iterate over multiple files\n",
    "\n",
    "This will make use of the function for lifting data from a formatted Excel file and put it inside a function that cycles through multiple files.\n",
    "\n",
    "The top-level function \"extract_multiple()\" will process the data from each file into neat columns.\n",
    "\n",
    "The nested function \"extract_data()\" builds mini data frames from the cell ranges in the worksheets and passes those to the main function for processing.\n",
    "\n",
    "The main function \"extract_multiple()\" will then get applied in a for loop to iterate over all of the files in the \"data\" folder, producing a dataframe for each. These dataframes then get concatenated (UNIONed, in SQL-speak) into one dataframe, which becomes the one to be exported to .csv"
   ]
  },
  {
   "cell_type": "code",
   "execution_count": null,
   "metadata": {},
   "outputs": [],
   "source": [
    "def extract_multiple(file):\n",
    "    # Firstly, specify which file to open, namely the one passed to the \"file\" argument of the \"extract_multiple\" function\n",
    "    workbook = load_workbook(filename=file, read_only=True, data_only=True)\n",
    "\n",
    "    # Then, specify the worksheet within the workbook from which to extract the data.\n",
    "    worksheet = workbook['5.2'] \n",
    "\n",
    "    ###################################################################################\n",
    "    # A nested function that creates individual dataframes of the data that we want to\n",
    "    # extract from each worksheet.\n",
    "     \n",
    "    def extract_data(first,last): #i.e. reference for first cell and last cell in table \n",
    "        data_rows = []\n",
    "\n",
    "        for row in worksheet[first:last]:\n",
    "            data_cols = []\n",
    "            for cell in row:\n",
    "                data_cols.append(cell.value)\n",
    "            data_rows.append(data_cols)\n",
    "        df = pd.DataFrame(data_rows)\n",
    "        return df\n",
    "    ###################################################################################\n",
    "\n",
    "    # Apply the nested function to the ranges that we want to extract\n",
    "    current_month = extract_data('S8','S8') # NB: creates a dataframe\n",
    "    current_month = current_month.iloc[0,0] # convert dataframe to a single value\n",
    "    all_inpatients_data = extract_data('S11','T11')\n",
    "    icb_list = extract_data('A16','A57')\n",
    "    icbs_data = extract_data('S16','T57')\n",
    "\n",
    "    # name of columns for our data extract\n",
    "    cols = ['month_year', \n",
    "            'org_code',\n",
    "            'adult_inpatients',\n",
    "            'rate_per_million'\n",
    "            ]\n",
    "\n",
    "    # give all_inpatients_data column names\n",
    "    all_inpatients_data = all_inpatients_data.rename(columns={all_inpatients_data.columns[0]:cols[2],\n",
    "                                                            all_inpatients_data.columns[1]:cols[3]\n",
    "                                                            }\n",
    "                                                    )\n",
    "\n",
    "    # add org_code to all_inpatients_data\n",
    "    all_inpatients_data[cols[1]] = 'All'\n",
    "\n",
    "    # bring \"org_code\" to the front by matching the order in \"cols\" (without \"month_year\")\n",
    "    all_inpatients_data = all_inpatients_data[cols[1:]]\n",
    "\n",
    "    # give icbs_data columns names\n",
    "    icbs_data = icbs_data.rename(columns={icbs_data.columns[0]:cols[2],\n",
    "                                        icbs_data.columns[1]:cols[3],\n",
    "                                        }\n",
    "                                )\n",
    "\n",
    "    # give icb_list a column name\n",
    "    icb_list = icb_list.rename(columns={icb_list.columns[0]:cols[1]}) \n",
    "\n",
    "    # concatenate \"icb_list\" and \"icbs_data\" into one table\n",
    "    icbs_data = pd.concat([icb_list,icbs_data] , axis = 1)\n",
    "\n",
    "    # create consolidated data\n",
    "    consolidated_data = pd.concat([all_inpatients_data,icbs_data], axis = 0)\n",
    "    consolidated_data = consolidated_data.reset_index()\n",
    "\n",
    "    # add the month description and bring it to the front\n",
    "    consolidated_data[cols[0]] = current_month\n",
    "    consolidated_data = consolidated_data[cols]\n",
    "\n",
    "    return consolidated_data"
   ]
  },
  {
   "cell_type": "markdown",
   "metadata": {},
   "source": [
    "### Apply the top-level \"extract_multiple()\" function and concatenate the results into one data table"
   ]
  },
  {
   "cell_type": "code",
   "execution_count": null,
   "metadata": {},
   "outputs": [
    {
     "data": {
      "text/html": [
       "<div>\n",
       "<style scoped>\n",
       "    .dataframe tbody tr th:only-of-type {\n",
       "        vertical-align: middle;\n",
       "    }\n",
       "\n",
       "    .dataframe tbody tr th {\n",
       "        vertical-align: top;\n",
       "    }\n",
       "\n",
       "    .dataframe thead th {\n",
       "        text-align: right;\n",
       "    }\n",
       "</style>\n",
       "<table border=\"1\" class=\"dataframe\">\n",
       "  <thead>\n",
       "    <tr style=\"text-align: right;\">\n",
       "      <th></th>\n",
       "      <th>month_year</th>\n",
       "      <th>org_code</th>\n",
       "      <th>adult_inpatients</th>\n",
       "      <th>rate_per_million</th>\n",
       "    </tr>\n",
       "  </thead>\n",
       "  <tbody>\n",
       "    <tr>\n",
       "      <th>0</th>\n",
       "      <td>April 2021</td>\n",
       "      <td>All</td>\n",
       "      <td>1825</td>\n",
       "      <td>42</td>\n",
       "    </tr>\n",
       "    <tr>\n",
       "      <th>1</th>\n",
       "      <td>April 2021</td>\n",
       "      <td>QOX</td>\n",
       "      <td>25</td>\n",
       "      <td>36</td>\n",
       "    </tr>\n",
       "    <tr>\n",
       "      <th>2</th>\n",
       "      <td>April 2021</td>\n",
       "      <td>QHG</td>\n",
       "      <td>20</td>\n",
       "      <td>30</td>\n",
       "    </tr>\n",
       "    <tr>\n",
       "      <th>3</th>\n",
       "      <td>April 2021</td>\n",
       "      <td>QHL</td>\n",
       "      <td>50</td>\n",
       "      <td>59</td>\n",
       "    </tr>\n",
       "    <tr>\n",
       "      <th>4</th>\n",
       "      <td>April 2021</td>\n",
       "      <td>QUY</td>\n",
       "      <td>35</td>\n",
       "      <td>48</td>\n",
       "    </tr>\n",
       "    <tr>\n",
       "      <th>5</th>\n",
       "      <td>April 2021</td>\n",
       "      <td>QU9</td>\n",
       "      <td>45</td>\n",
       "      <td>33</td>\n",
       "    </tr>\n",
       "    <tr>\n",
       "      <th>6</th>\n",
       "      <td>April 2021</td>\n",
       "      <td>QUE</td>\n",
       "      <td>30</td>\n",
       "      <td>41</td>\n",
       "    </tr>\n",
       "    <tr>\n",
       "      <th>7</th>\n",
       "      <td>April 2021</td>\n",
       "      <td>QYG</td>\n",
       "      <td>80</td>\n",
       "      <td>40</td>\n",
       "    </tr>\n",
       "    <tr>\n",
       "      <th>8</th>\n",
       "      <td>April 2021</td>\n",
       "      <td>QT6</td>\n",
       "      <td>25</td>\n",
       "      <td>55</td>\n",
       "    </tr>\n",
       "    <tr>\n",
       "      <th>9</th>\n",
       "      <td>April 2021</td>\n",
       "      <td>QWU</td>\n",
       "      <td>40</td>\n",
       "      <td>55</td>\n",
       "    </tr>\n",
       "  </tbody>\n",
       "</table>\n",
       "</div>"
      ],
      "text/plain": [
       "   month_year org_code  adult_inpatients  rate_per_million\n",
       "0  April 2021      All              1825                42\n",
       "1  April 2021      QOX                25                36\n",
       "2  April 2021      QHG                20                30\n",
       "3  April 2021      QHL                50                59\n",
       "4  April 2021      QUY                35                48\n",
       "5  April 2021      QU9                45                33\n",
       "6  April 2021      QUE                30                41\n",
       "7  April 2021      QYG                80                40\n",
       "8  April 2021      QT6                25                55\n",
       "9  April 2021      QWU                40                55"
      ]
     },
     "execution_count": 7,
     "metadata": {},
     "output_type": "execute_result"
    }
   ],
   "source": [
    "# extract_multiple() creates dataframes for data from each of the files (in the background, so to speak)\n",
    "# and these get concatenated to form one dataframe which has been assigned to the \"data_extract\" variable.\n",
    "\n",
    "data_extract = pd.concat([extract_multiple(file) for file in file_list], ignore_index=True)\n",
    "\n",
    "# We can examime this dataframe variable. It appears to contain data for ICBs outside of our five BI customer ICBs.\n",
    "\n",
    "data_extract.head(10)"
   ]
  },
  {
   "cell_type": "markdown",
   "metadata": {},
   "source": [
    "### Extract the data for the five BI customer ICBs, plus all-England for comparison "
   ]
  },
  {
   "cell_type": "code",
   "execution_count": null,
   "metadata": {},
   "outputs": [
    {
     "data": {
      "text/html": [
       "<div>\n",
       "<style scoped>\n",
       "    .dataframe tbody tr th:only-of-type {\n",
       "        vertical-align: middle;\n",
       "    }\n",
       "\n",
       "    .dataframe tbody tr th {\n",
       "        vertical-align: top;\n",
       "    }\n",
       "\n",
       "    .dataframe thead th {\n",
       "        text-align: right;\n",
       "    }\n",
       "</style>\n",
       "<table border=\"1\" class=\"dataframe\">\n",
       "  <thead>\n",
       "    <tr style=\"text-align: right;\">\n",
       "      <th></th>\n",
       "      <th>month_year</th>\n",
       "      <th>org_code</th>\n",
       "      <th>adult_inpatients</th>\n",
       "      <th>rate_per_million</th>\n",
       "    </tr>\n",
       "  </thead>\n",
       "  <tbody>\n",
       "    <tr>\n",
       "      <th>0</th>\n",
       "      <td>April 2021</td>\n",
       "      <td>All</td>\n",
       "      <td>1825</td>\n",
       "      <td>42</td>\n",
       "    </tr>\n",
       "    <tr>\n",
       "      <th>5</th>\n",
       "      <td>April 2021</td>\n",
       "      <td>QU9</td>\n",
       "      <td>45</td>\n",
       "      <td>33</td>\n",
       "    </tr>\n",
       "    <tr>\n",
       "      <th>14</th>\n",
       "      <td>April 2021</td>\n",
       "      <td>QNQ</td>\n",
       "      <td>10</td>\n",
       "      <td>18</td>\n",
       "    </tr>\n",
       "    <tr>\n",
       "      <th>17</th>\n",
       "      <td>April 2021</td>\n",
       "      <td>QRL</td>\n",
       "      <td>50</td>\n",
       "      <td>33</td>\n",
       "    </tr>\n",
       "    <tr>\n",
       "      <th>34</th>\n",
       "      <td>April 2021</td>\n",
       "      <td>QSL</td>\n",
       "      <td>10</td>\n",
       "      <td>18</td>\n",
       "    </tr>\n",
       "    <tr>\n",
       "      <th>40</th>\n",
       "      <td>April 2021</td>\n",
       "      <td>QNX</td>\n",
       "      <td>50</td>\n",
       "      <td>38</td>\n",
       "    </tr>\n",
       "    <tr>\n",
       "      <th>43</th>\n",
       "      <td>May 2021</td>\n",
       "      <td>All</td>\n",
       "      <td>1845</td>\n",
       "      <td>42</td>\n",
       "    </tr>\n",
       "    <tr>\n",
       "      <th>48</th>\n",
       "      <td>May 2021</td>\n",
       "      <td>QU9</td>\n",
       "      <td>45</td>\n",
       "      <td>35</td>\n",
       "    </tr>\n",
       "    <tr>\n",
       "      <th>57</th>\n",
       "      <td>May 2021</td>\n",
       "      <td>QNQ</td>\n",
       "      <td>10</td>\n",
       "      <td>21</td>\n",
       "    </tr>\n",
       "    <tr>\n",
       "      <th>60</th>\n",
       "      <td>May 2021</td>\n",
       "      <td>QRL</td>\n",
       "      <td>50</td>\n",
       "      <td>36</td>\n",
       "    </tr>\n",
       "  </tbody>\n",
       "</table>\n",
       "</div>"
      ],
      "text/plain": [
       "    month_year org_code  adult_inpatients  rate_per_million\n",
       "0   April 2021      All              1825                42\n",
       "5   April 2021      QU9                45                33\n",
       "14  April 2021      QNQ                10                18\n",
       "17  April 2021      QRL                50                33\n",
       "34  April 2021      QSL                10                18\n",
       "40  April 2021      QNX                50                38\n",
       "43    May 2021      All              1845                42\n",
       "48    May 2021      QU9                45                35\n",
       "57    May 2021      QNQ                10                21\n",
       "60    May 2021      QRL                50                36"
      ]
     },
     "execution_count": 9,
     "metadata": {},
     "output_type": "execute_result"
    }
   ],
   "source": [
    "# list of relevant geographies\n",
    "relevant = ['All', \n",
    "            'QRL', # HIOW\n",
    "            'QNQ', # Frimley\n",
    "            'QU9', # BOB\n",
    "            'QNX', # Sussex\n",
    "            'QSL', # Somerset\n",
    "            ]\n",
    "\n",
    "data_extract = data_extract[data_extract['org_code'].isin(relevant)]\n",
    "\n",
    "data_extract.head(10)"
   ]
  },
  {
   "cell_type": "markdown",
   "metadata": {},
   "source": [
    "### Export the final extract to .csv"
   ]
  },
  {
   "cell_type": "code",
   "execution_count": 10,
   "metadata": {},
   "outputs": [],
   "source": [
    "data_extract.to_csv('output/ld_inpatients_per_million.csv', index=False)"
   ]
  }
 ],
 "metadata": {
  "kernelspec": {
   "display_name": "surgery-venv",
   "language": "python",
   "name": "python3"
  },
  "language_info": {
   "codemirror_mode": {
    "name": "ipython",
    "version": 3
   },
   "file_extension": ".py",
   "mimetype": "text/x-python",
   "name": "python",
   "nbconvert_exporter": "python",
   "pygments_lexer": "ipython3",
   "version": "3.9.0"
  }
 },
 "nbformat": 4,
 "nbformat_minor": 2
}
