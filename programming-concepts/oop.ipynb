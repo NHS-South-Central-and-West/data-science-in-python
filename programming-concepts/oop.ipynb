{
 "cells": [
  {
   "cell_type": "markdown",
   "metadata": {},
   "source": [
    "# Object-Oriented Programming (OOP)"
   ]
  },
  {
   "cell_type": "markdown",
   "metadata": {},
   "source": [
    "Using the dictonary methodology is very repetitive"
   ]
  },
  {
   "cell_type": "code",
   "execution_count": 28,
   "metadata": {},
   "outputs": [],
   "source": [
    "# nested dictonary equivalent\n",
    "\n",
    "health_professionals_dict = {1234567 : {\"surname\": \"Pig\", \"firstname\": \"Peppa\", \"employer_id\": \"A1A1A\"},\n",
    "                             7654321 : {\"surname\": \"Dog\", \"firstname\": \"Duggee\", \"employer_id\": \"Z9Z9Z\"}\n",
    "                             }"
   ]
  },
  {
   "cell_type": "code",
   "execution_count": null,
   "metadata": {},
   "outputs": [],
   "source": [
    "# to access an element\n",
    "\n",
    "print(health_professionals_dict[7654321][\"firstname\"])"
   ]
  },
  {
   "cell_type": "markdown",
   "metadata": {},
   "source": [
    "Using lots of lists can lead to errors when an element is missing & you have to remember which index you need."
   ]
  },
  {
   "cell_type": "code",
   "execution_count": null,
   "metadata": {},
   "outputs": [],
   "source": [
    "# as separate lists\n",
    "\n",
    "pep = [1234567, \"Pig\", \"Peppa\", \"A1A1A\"]\n",
    "dug = [7654321, \"Dog\", \"Duggee\"]\n",
    "\n",
    "print(pep[3])\n",
    "\n",
    "print(dug[3])"
   ]
  },
  {
   "cell_type": "code",
   "execution_count": 31,
   "metadata": {},
   "outputs": [],
   "source": [
    "# instance attributes only\n",
    "\n",
    "class HealthProfessional:\n",
    "    def __init__(self,assignment_number,surname,firstname,employer_id):\n",
    "        self.assignment_number = assignment_number\n",
    "        self.surname = surname\n",
    "        self.firstname = firstname\n",
    "        self.employer_id = employer_id"
   ]
  },
  {
   "cell_type": "code",
   "execution_count": 32,
   "metadata": {},
   "outputs": [],
   "source": [
    "# include a class attribute\n",
    "\n",
    "class HealthProfessional:\n",
    "    daily_capacity = 7.5\n",
    "\n",
    "    def __init__(self,assignment_number,surname,firstname,employer_id):\n",
    "        self.assignment_number = assignment_number\n",
    "        self.surname = surname\n",
    "        self.firstname = firstname\n",
    "        self.employer_id = employer_id"
   ]
  },
  {
   "cell_type": "code",
   "execution_count": 33,
   "metadata": {},
   "outputs": [],
   "source": [
    "pp = HealthProfessional(1234567,\"Pig\",\"Peppa\",\"A1A1A\")"
   ]
  },
  {
   "cell_type": "code",
   "execution_count": null,
   "metadata": {},
   "outputs": [],
   "source": [
    "pp.assignment_number"
   ]
  },
  {
   "cell_type": "code",
   "execution_count": 35,
   "metadata": {},
   "outputs": [],
   "source": [
    "dd = HealthProfessional(7654321,\"Dog\",\"Duggee\",\"Z9Z9Z\")"
   ]
  },
  {
   "cell_type": "code",
   "execution_count": null,
   "metadata": {},
   "outputs": [],
   "source": [
    "dd.firstname"
   ]
  },
  {
   "cell_type": "code",
   "execution_count": null,
   "metadata": {},
   "outputs": [],
   "source": [
    "# When we instantiated the pp and dd objects, we did not have to enter the class attribute\n",
    "# as an argument.\n",
    "\n",
    "print(f'Peppa\\'s daily capacity: {pp.daily_capacity} hours.')\n",
    "print(f'Duggee\\'s daily capacity: {dd.daily_capacity} hours.')"
   ]
  },
  {
   "cell_type": "code",
   "execution_count": null,
   "metadata": {},
   "outputs": [],
   "source": [
    "# update values dynamically\n",
    "\n",
    "pp.employer_id = \"Z9Z9Z\"\n",
    "\n",
    "pp.employer_id"
   ]
  },
  {
   "cell_type": "code",
   "execution_count": null,
   "metadata": {},
   "outputs": [],
   "source": [
    "# It is even possible to modify a class attribute for a particular object.\n",
    "# Objects are all initialised with the same class attribute values, but they\n",
    "# can change and be particular to the instance.\n",
    "\n",
    "dd.daily_capacity = 8\n",
    "\n",
    "print(f'Peppa\\'s daily capacity: {pp.daily_capacity} hours.')\n",
    "print(f'Duggee\\'s daily capacity: {dd.daily_capacity} hours.')"
   ]
  },
  {
   "cell_type": "code",
   "execution_count": 40,
   "metadata": {},
   "outputs": [],
   "source": [
    "# add a str method to call when \n",
    "\n",
    "class HealthProfessional:\n",
    "    daily_capacity = 7.5\n",
    "\n",
    "    def __init__(self,assignment_number,surname,firstname,employer_id):\n",
    "        self.assignment_number = assignment_number\n",
    "        self.surname = surname\n",
    "        self.firstname = firstname\n",
    "        self.employer_id = employer_id\n",
    "\n",
    "    def __str__(self):\n",
    "        return f'{self.firstname} {self.surname} works at {self.employer_id} for {self.daily_capacity} hours per day'"
   ]
  },
  {
   "cell_type": "code",
   "execution_count": null,
   "metadata": {},
   "outputs": [],
   "source": [
    "# have to re-instantiate since I have modified the class\n",
    "\n",
    "dd = HealthProfessional(7654321,\"Dog\",\"Duggee\",\"Z9Z9Z\")\n",
    "pp = HealthProfessional(1234567,\"Pig\",\"Peppa\",\"A1A1A\")\n",
    "\n",
    "print(dd)\n",
    "print(pp)\n",
    "\n",
    "# You could set the returned value of the __str__ method as a \"help\" description"
   ]
  },
  {
   "cell_type": "markdown",
   "metadata": {},
   "source": [
    "`__init__()` and `__str__()` are \"dunder methods\" [from \"Double UNDERscore\"]. These are an important feature of Object Oriented Programming, but not essential for understanding how OOP works."
   ]
  },
  {
   "cell_type": "code",
   "execution_count": 42,
   "metadata": {},
   "outputs": [],
   "source": [
    "# inheritance\n",
    "\n",
    "class Nurse(HealthProfessional):\n",
    "    def __init__(self, assignment_number,surname,firstname,employer_id, department, specialism, band, role):\n",
    "        self.department = department\n",
    "        self.specialism = specialism\n",
    "        self.band = band\n",
    "        self.role = role\n",
    "        super().__init__(assignment_number,surname,firstname,employer_id)\n",
    "\n",
    "class Doctor(HealthProfessional):\n",
    "    def __init__(self, assignment_number,surname,firstname,employer_id, department, specialism, seniority):\n",
    "        self.department = department\n",
    "        self.specialism = specialism\n",
    "        self.seniority = seniority\n",
    "        super().__init__(assignment_number,surname,firstname,employer_id)\n"
   ]
  },
  {
   "cell_type": "code",
   "execution_count": 43,
   "metadata": {},
   "outputs": [],
   "source": [
    "doctor_peppa = Doctor(1234567,\"Pig\",\"Peppa\",\"A1A1A\",\"Surgery\",\"Gastro-Intestinal\",\"Consultant\")\n",
    "\n",
    "#doctor_george = Doctor() # 1234568,\"Pig\",\"George\",\"A1A1A\",\"Paediatrics\",\"Hepatobiliary\",\"Resident\""
   ]
  },
  {
   "cell_type": "code",
   "execution_count": 44,
   "metadata": {},
   "outputs": [],
   "source": [
    "nurse_duggee = Nurse(7654321,\"Dog\",\"Duggee\",\"Z9Z9Z\",\"Cancer\",\"Head & Neck\",\"8a\",\"Advanced Nurse Practitioner\")\n",
    "\n",
    "nurse_happy = Nurse(7654322,\"Crocodile\",\"Happy\",\"Z9Z9Z\",\"Emergency\",\"A&E\",\"5\",\"Staff Nurse\")"
   ]
  },
  {
   "cell_type": "code",
   "execution_count": null,
   "metadata": {},
   "outputs": [],
   "source": [
    "print(doctor_peppa)\n",
    "print(f'Her specialism is: {doctor_peppa.specialism}')\n",
    "\n",
    "print(nurse_happy)\n",
    "print(f'His role is: {nurse_happy.role}')\n"
   ]
  },
  {
   "cell_type": "markdown",
   "metadata": {},
   "source": [
    "If you are wondering why you would bother creating a Parent class, when you have to type out all the attribute arguments in the Child class anyway, there are benefits to cascading functionality from the Parent class."
   ]
  },
  {
   "cell_type": "code",
   "execution_count": 46,
   "metadata": {},
   "outputs": [],
   "source": [
    "# In order for the custom ValueError to be returned, as opposed to the default TypeError, the __init__ first needs to\n",
    "# pass with default None values.\n",
    "\n",
    "class HealthProfessional:\n",
    "    daily_capacity = 7.5\n",
    "\n",
    "    def __init__(self, assignment_number=None, surname=None, firstname=None, employer_id=None):\n",
    "        if not assignment_number:\n",
    "            raise ValueError(\"Assignment Number cannot be empty\")           # raise an error if assignment_number is missing\n",
    "        self.assignment_number = assignment_number\n",
    "        self.surname = surname\n",
    "        self.firstname = firstname\n",
    "        self.employer_id = employer_id\n",
    "\n",
    "    def __str__(self):\n",
    "        return f'{self.firstname} {self.surname} works at {self.employer_id} for {self.daily_capacity} hours per day'\n",
    "\n",
    "\n",
    "class Nurse(HealthProfessional):\n",
    "    def __init__(self, assignment_number=None ,surname=None ,firstname=None ,\n",
    "                 employer_id=None ,department=None ,specialism=None ,band=None , role=None):\n",
    "        self.department = department\n",
    "        self.specialism = specialism\n",
    "        self.band = band\n",
    "        self.role = role\n",
    "        super().__init__(assignment_number,surname,firstname,employer_id)\n",
    "\n",
    "class Doctor(HealthProfessional):\n",
    "    def __init__(self, assignment_number=None ,surname=None ,firstname=None ,\n",
    "                 employer_id=None , department=None , specialism=None , seniority=None ):\n",
    "        self.department = department\n",
    "        self.specialism = specialism\n",
    "        self.seniority = seniority\n",
    "        super().__init__(assignment_number,surname,firstname,employer_id)\n",
    "\n",
    "# Using keyword arguments to show explicitly that we are not including an Assignment Number\n",
    "\n",
    "nurse_betty = Nurse(surname=\"Octopus\",\n",
    "                    firstname=\"Betty\",\n",
    "                    employer_id=\"A1A1A\",\n",
    "                    department= \"Community Mental Health\",\n",
    "                    specialism=\"Dementia Care\",\n",
    "                    band= \"7\",\n",
    "                    role=\"Charge Nurse\")\n",
    "\n",
    "# Try adding an assignment number and running it again.\n",
    "\n",
    "# Also try removing the \"role\" keyword argument. The nurse_betty object will still be instantiated, because an empty\n",
    "# value (None) is permitted by default."
   ]
  },
  {
   "cell_type": "code",
   "execution_count": null,
   "metadata": {},
   "outputs": [],
   "source": [
    "# Checking which class an object is\n",
    "\n",
    "type(doctor_peppa)"
   ]
  },
  {
   "cell_type": "code",
   "execution_count": null,
   "metadata": {},
   "outputs": [],
   "source": [
    "# Checking whether a child class object belongs to a parent class\n",
    "\n",
    "isinstance(nurse_betty,HealthProfessional)"
   ]
  }
 ],
 "metadata": {
  "kernelspec": {
   "display_name": "my-env",
   "language": "python",
   "name": "python3"
  },
  "language_info": {
   "codemirror_mode": {
    "name": "ipython",
    "version": 3
   },
   "file_extension": ".py",
   "mimetype": "text/x-python",
   "name": "python",
   "nbconvert_exporter": "python",
   "pygments_lexer": "ipython3",
   "version": "3.10.10"
  }
 },
 "nbformat": 4,
 "nbformat_minor": 2
}
